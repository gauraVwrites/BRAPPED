{
 "cells": [
  {
   "cell_type": "code",
   "execution_count": 1,
   "id": "d4733241-5f8e-4c1a-98d9-36a94f603db8",
   "metadata": {},
   "outputs": [],
   "source": [
    "import pandas as pd\n",
    "import matplotlib.pyplot as plt\n",
    "import pickle as pk\n",
    "import json"
   ]
  },
  {
   "cell_type": "markdown",
   "id": "7fe27f43-c8e5-4abb-a950-1a54e3f8a177",
   "metadata": {},
   "source": [
    "## Streaming Data"
   ]
  },
  {
   "cell_type": "code",
   "execution_count": 2,
   "id": "72b61319-dc32-4a73-976a-f7a4096cd857",
   "metadata": {},
   "outputs": [],
   "source": [
    "df1 = pd.read_json(r\"C:\\Users\\91897\\Downloads\\my spotify data\\last year data\\Spotify Account Data\\StreamingHistory_music_0.json\")\n",
    "df2 = pd.read_json(r\"C:\\Users\\91897\\Downloads\\my spotify data\\last year data\\Spotify Account Data\\StreamingHistory_music_1.json\")\n",
    "df3 = pd.read_json(r\"C:\\Users\\91897\\Downloads\\my spotify data\\last year data\\Spotify Account Data\\StreamingHistory_music_2.json\")"
   ]
  },
  {
   "cell_type": "markdown",
   "id": "414d0de0-9c8c-4dec-a46d-72820a785011",
   "metadata": {},
   "source": [
    "#### Stacking all the dataframes on top of each"
   ]
  },
  {
   "cell_type": "code",
   "execution_count": 3,
   "id": "4e3e4d3b-132b-4eda-a6d1-eb938f293873",
   "metadata": {},
   "outputs": [],
   "source": [
    "df = pd.concat([df1, df2, df3], ignore_index= True)"
   ]
  },
  {
   "cell_type": "markdown",
   "id": "c325723c-da35-4b30-bac3-51d348b159d6",
   "metadata": {},
   "source": [
    "#### Understanding The Data"
   ]
  },
  {
   "cell_type": "code",
   "execution_count": 4,
   "id": "eab3d5a9-9945-419c-ac8f-a2bd3f08b654",
   "metadata": {},
   "outputs": [
    {
     "data": {
      "text/plain": [
       "(21349, 4)"
      ]
     },
     "execution_count": 4,
     "metadata": {},
     "output_type": "execute_result"
    }
   ],
   "source": [
    "df.shape"
   ]
  },
  {
   "cell_type": "code",
   "execution_count": 5,
   "id": "fcc97a0b-8f17-4ee8-b4d6-87fd5a5dfc44",
   "metadata": {},
   "outputs": [
    {
     "data": {
      "text/html": [
       "<div>\n",
       "<style scoped>\n",
       "    .dataframe tbody tr th:only-of-type {\n",
       "        vertical-align: middle;\n",
       "    }\n",
       "\n",
       "    .dataframe tbody tr th {\n",
       "        vertical-align: top;\n",
       "    }\n",
       "\n",
       "    .dataframe thead th {\n",
       "        text-align: right;\n",
       "    }\n",
       "</style>\n",
       "<table border=\"1\" class=\"dataframe\">\n",
       "  <thead>\n",
       "    <tr style=\"text-align: right;\">\n",
       "      <th></th>\n",
       "      <th>endTime</th>\n",
       "      <th>artistName</th>\n",
       "      <th>trackName</th>\n",
       "      <th>msPlayed</th>\n",
       "    </tr>\n",
       "  </thead>\n",
       "  <tbody>\n",
       "    <tr>\n",
       "      <th>0</th>\n",
       "      <td>2023-11-18 03:53</td>\n",
       "      <td>Gajendra Verma</td>\n",
       "      <td>Mann Mera</td>\n",
       "      <td>199970</td>\n",
       "    </tr>\n",
       "    <tr>\n",
       "      <th>1</th>\n",
       "      <td>2023-11-18 03:57</td>\n",
       "      <td>Gravero</td>\n",
       "      <td>Waalian (Lofi Mix)</td>\n",
       "      <td>187849</td>\n",
       "    </tr>\n",
       "    <tr>\n",
       "      <th>2</th>\n",
       "      <td>2023-11-18 04:00</td>\n",
       "      <td>Arijit Singh</td>\n",
       "      <td>Main Dhoondne Ko Zamaane Mein</td>\n",
       "      <td>193654</td>\n",
       "    </tr>\n",
       "    <tr>\n",
       "      <th>3</th>\n",
       "      <td>2023-11-18 04:04</td>\n",
       "      <td>French Montana</td>\n",
       "      <td>Unforgettable</td>\n",
       "      <td>233824</td>\n",
       "    </tr>\n",
       "    <tr>\n",
       "      <th>4</th>\n",
       "      <td>2023-11-18 04:05</td>\n",
       "      <td>French Montana</td>\n",
       "      <td>Too Much</td>\n",
       "      <td>99195</td>\n",
       "    </tr>\n",
       "  </tbody>\n",
       "</table>\n",
       "</div>"
      ],
      "text/plain": [
       "            endTime      artistName                      trackName  msPlayed\n",
       "0  2023-11-18 03:53  Gajendra Verma                      Mann Mera    199970\n",
       "1  2023-11-18 03:57         Gravero             Waalian (Lofi Mix)    187849\n",
       "2  2023-11-18 04:00    Arijit Singh  Main Dhoondne Ko Zamaane Mein    193654\n",
       "3  2023-11-18 04:04  French Montana                  Unforgettable    233824\n",
       "4  2023-11-18 04:05  French Montana                       Too Much     99195"
      ]
     },
     "execution_count": 5,
     "metadata": {},
     "output_type": "execute_result"
    }
   ],
   "source": [
    "df.head()"
   ]
  },
  {
   "cell_type": "markdown",
   "id": "731ed76a-7864-4680-bf87-6965570d4860",
   "metadata": {},
   "source": [
    "- As of now, we've a total of four fields:<br>\n",
    "1. endTime = This displays the date and time on which a track ended.\n",
    "2. artistName\n",
    "3. trackName\n",
    "4. msPlayed = This displays the duration for which a track was played in milliseconds"
   ]
  },
  {
   "cell_type": "code",
   "execution_count": 6,
   "id": "2c9613af-4d72-4570-a4b5-1bc3547bdb5c",
   "metadata": {},
   "outputs": [
    {
     "data": {
      "text/plain": [
       "endTime       object\n",
       "artistName    object\n",
       "trackName     object\n",
       "msPlayed       int64\n",
       "dtype: object"
      ]
     },
     "execution_count": 6,
     "metadata": {},
     "output_type": "execute_result"
    }
   ],
   "source": [
    "df.dtypes"
   ]
  },
  {
   "cell_type": "markdown",
   "id": "e293e648-e1db-4402-b4e3-b590d1bb2fc1",
   "metadata": {},
   "source": [
    "The data type for endTime is the only data type that we need to fix, our endTime should be a DateTime data object"
   ]
  },
  {
   "cell_type": "markdown",
   "id": "14442059-6a74-4916-9bfe-d955c6211eee",
   "metadata": {},
   "source": [
    "There's an opportunity for us to split our endDate column to seperate column of date and time.<br>\n",
    "We can do this by converting endTime into DateTime data object and then from that column we can extract seperately our dates and as well as columns.<br>\n",
    "Additionaly we can also use a string split in endTime and split Date and Time and then seperately change it to Date and Time data types."
   ]
  },
  {
   "cell_type": "code",
   "execution_count": 7,
   "id": "1611187f-2879-4029-b646-c82cba3ba80a",
   "metadata": {},
   "outputs": [],
   "source": [
    "df[['date', 'time']] = df['endTime'].str.split(expand= True)"
   ]
  },
  {
   "cell_type": "code",
   "execution_count": 8,
   "id": "80a20e2c-27c5-4352-a2d4-77068fa3acad",
   "metadata": {},
   "outputs": [],
   "source": [
    "df['endTime'] = pd.to_datetime(df['endTime'])\n",
    "df['date'] = pd.to_datetime(df['date'])"
   ]
  },
  {
   "cell_type": "code",
   "execution_count": 9,
   "id": "bba39dbc-f767-4284-92db-902b813de2a8",
   "metadata": {},
   "outputs": [],
   "source": [
    "df['time'] = pd.to_datetime(df['time'], format= '%H:%M').dt.time\n",
    "# converting time into date time's time object"
   ]
  },
  {
   "cell_type": "code",
   "execution_count": 10,
   "id": "b2e7215b-27df-4fb8-9753-58ad28db0dad",
   "metadata": {},
   "outputs": [
    {
     "data": {
      "text/plain": [
       "endTime       datetime64[ns]\n",
       "artistName            object\n",
       "trackName             object\n",
       "msPlayed               int64\n",
       "date          datetime64[ns]\n",
       "time                  object\n",
       "dtype: object"
      ]
     },
     "execution_count": 10,
     "metadata": {},
     "output_type": "execute_result"
    }
   ],
   "source": [
    "df.dtypes"
   ]
  },
  {
   "cell_type": "markdown",
   "id": "027d7d59-5280-4cea-b8b5-4049ff06564c",
   "metadata": {},
   "source": [
    "Now it is fixed as per our requirements."
   ]
  },
  {
   "cell_type": "markdown",
   "id": "9941eb39-e3ce-4d2b-a0de-ba9b38ae4391",
   "metadata": {},
   "source": [
    "#### Understanding the Range"
   ]
  },
  {
   "cell_type": "code",
   "execution_count": 11,
   "id": "0c3b4a7f-3099-4cef-b7f9-202baa6ff8d5",
   "metadata": {},
   "outputs": [
    {
     "data": {
      "text/plain": [
       "21349"
      ]
     },
     "execution_count": 11,
     "metadata": {},
     "output_type": "execute_result"
    }
   ],
   "source": [
    "len(df)"
   ]
  },
  {
   "cell_type": "code",
   "execution_count": 12,
   "id": "14183928-4980-40b5-a200-6251f9b38205",
   "metadata": {},
   "outputs": [
    {
     "data": {
      "text/html": [
       "<div>\n",
       "<style scoped>\n",
       "    .dataframe tbody tr th:only-of-type {\n",
       "        vertical-align: middle;\n",
       "    }\n",
       "\n",
       "    .dataframe tbody tr th {\n",
       "        vertical-align: top;\n",
       "    }\n",
       "\n",
       "    .dataframe thead th {\n",
       "        text-align: right;\n",
       "    }\n",
       "</style>\n",
       "<table border=\"1\" class=\"dataframe\">\n",
       "  <thead>\n",
       "    <tr style=\"text-align: right;\">\n",
       "      <th></th>\n",
       "      <th>endTime</th>\n",
       "      <th>artistName</th>\n",
       "      <th>trackName</th>\n",
       "      <th>msPlayed</th>\n",
       "      <th>date</th>\n",
       "      <th>time</th>\n",
       "    </tr>\n",
       "  </thead>\n",
       "  <tbody>\n",
       "    <tr>\n",
       "      <th>0</th>\n",
       "      <td>2023-11-18 03:53:00</td>\n",
       "      <td>Gajendra Verma</td>\n",
       "      <td>Mann Mera</td>\n",
       "      <td>199970</td>\n",
       "      <td>2023-11-18</td>\n",
       "      <td>03:53:00</td>\n",
       "    </tr>\n",
       "    <tr>\n",
       "      <th>1</th>\n",
       "      <td>2023-11-18 03:57:00</td>\n",
       "      <td>Gravero</td>\n",
       "      <td>Waalian (Lofi Mix)</td>\n",
       "      <td>187849</td>\n",
       "      <td>2023-11-18</td>\n",
       "      <td>03:57:00</td>\n",
       "    </tr>\n",
       "    <tr>\n",
       "      <th>2</th>\n",
       "      <td>2023-11-18 04:00:00</td>\n",
       "      <td>Arijit Singh</td>\n",
       "      <td>Main Dhoondne Ko Zamaane Mein</td>\n",
       "      <td>193654</td>\n",
       "      <td>2023-11-18</td>\n",
       "      <td>04:00:00</td>\n",
       "    </tr>\n",
       "    <tr>\n",
       "      <th>3</th>\n",
       "      <td>2023-11-18 04:04:00</td>\n",
       "      <td>French Montana</td>\n",
       "      <td>Unforgettable</td>\n",
       "      <td>233824</td>\n",
       "      <td>2023-11-18</td>\n",
       "      <td>04:04:00</td>\n",
       "    </tr>\n",
       "    <tr>\n",
       "      <th>4</th>\n",
       "      <td>2023-11-18 04:05:00</td>\n",
       "      <td>French Montana</td>\n",
       "      <td>Too Much</td>\n",
       "      <td>99195</td>\n",
       "      <td>2023-11-18</td>\n",
       "      <td>04:05:00</td>\n",
       "    </tr>\n",
       "  </tbody>\n",
       "</table>\n",
       "</div>"
      ],
      "text/plain": [
       "              endTime      artistName                      trackName  \\\n",
       "0 2023-11-18 03:53:00  Gajendra Verma                      Mann Mera   \n",
       "1 2023-11-18 03:57:00         Gravero             Waalian (Lofi Mix)   \n",
       "2 2023-11-18 04:00:00    Arijit Singh  Main Dhoondne Ko Zamaane Mein   \n",
       "3 2023-11-18 04:04:00  French Montana                  Unforgettable   \n",
       "4 2023-11-18 04:05:00  French Montana                       Too Much   \n",
       "\n",
       "   msPlayed       date      time  \n",
       "0    199970 2023-11-18  03:53:00  \n",
       "1    187849 2023-11-18  03:57:00  \n",
       "2    193654 2023-11-18  04:00:00  \n",
       "3    233824 2023-11-18  04:04:00  \n",
       "4     99195 2023-11-18  04:05:00  "
      ]
     },
     "execution_count": 12,
     "metadata": {},
     "output_type": "execute_result"
    }
   ],
   "source": [
    "df.sort_values(by= 'endTime', ascending= True).head()"
   ]
  },
  {
   "cell_type": "code",
   "execution_count": 13,
   "id": "4c6dd971-5ecd-434d-8a65-ece2c9f07fb5",
   "metadata": {},
   "outputs": [
    {
     "data": {
      "text/html": [
       "<div>\n",
       "<style scoped>\n",
       "    .dataframe tbody tr th:only-of-type {\n",
       "        vertical-align: middle;\n",
       "    }\n",
       "\n",
       "    .dataframe tbody tr th {\n",
       "        vertical-align: top;\n",
       "    }\n",
       "\n",
       "    .dataframe thead th {\n",
       "        text-align: right;\n",
       "    }\n",
       "</style>\n",
       "<table border=\"1\" class=\"dataframe\">\n",
       "  <thead>\n",
       "    <tr style=\"text-align: right;\">\n",
       "      <th></th>\n",
       "      <th>endTime</th>\n",
       "      <th>artistName</th>\n",
       "      <th>trackName</th>\n",
       "      <th>msPlayed</th>\n",
       "      <th>date</th>\n",
       "      <th>time</th>\n",
       "    </tr>\n",
       "  </thead>\n",
       "  <tbody>\n",
       "    <tr>\n",
       "      <th>21344</th>\n",
       "      <td>2024-11-18 14:46:00</td>\n",
       "      <td>Young Stunners</td>\n",
       "      <td>Why</td>\n",
       "      <td>3096</td>\n",
       "      <td>2024-11-18</td>\n",
       "      <td>14:46:00</td>\n",
       "    </tr>\n",
       "    <tr>\n",
       "      <th>21345</th>\n",
       "      <td>2024-11-18 14:46:00</td>\n",
       "      <td>Brave Wrld</td>\n",
       "      <td>SARPHIRE AASHIQUE</td>\n",
       "      <td>157593</td>\n",
       "      <td>2024-11-18</td>\n",
       "      <td>14:46:00</td>\n",
       "    </tr>\n",
       "    <tr>\n",
       "      <th>21347</th>\n",
       "      <td>2024-11-18 14:49:00</td>\n",
       "      <td>Panther</td>\n",
       "      <td>Jaani</td>\n",
       "      <td>166000</td>\n",
       "      <td>2024-11-18</td>\n",
       "      <td>14:49:00</td>\n",
       "    </tr>\n",
       "    <tr>\n",
       "      <th>21346</th>\n",
       "      <td>2024-11-18 14:49:00</td>\n",
       "      <td>Badshah</td>\n",
       "      <td>Naraaz</td>\n",
       "      <td>10027</td>\n",
       "      <td>2024-11-18</td>\n",
       "      <td>14:49:00</td>\n",
       "    </tr>\n",
       "    <tr>\n",
       "      <th>21348</th>\n",
       "      <td>2024-11-18 14:50:00</td>\n",
       "      <td>Talha Anjum</td>\n",
       "      <td>Lost in Time</td>\n",
       "      <td>16954</td>\n",
       "      <td>2024-11-18</td>\n",
       "      <td>14:50:00</td>\n",
       "    </tr>\n",
       "  </tbody>\n",
       "</table>\n",
       "</div>"
      ],
      "text/plain": [
       "                  endTime      artistName          trackName  msPlayed  \\\n",
       "21344 2024-11-18 14:46:00  Young Stunners                Why      3096   \n",
       "21345 2024-11-18 14:46:00      Brave Wrld  SARPHIRE AASHIQUE    157593   \n",
       "21347 2024-11-18 14:49:00         Panther              Jaani    166000   \n",
       "21346 2024-11-18 14:49:00         Badshah             Naraaz     10027   \n",
       "21348 2024-11-18 14:50:00     Talha Anjum       Lost in Time     16954   \n",
       "\n",
       "            date      time  \n",
       "21344 2024-11-18  14:46:00  \n",
       "21345 2024-11-18  14:46:00  \n",
       "21347 2024-11-18  14:49:00  \n",
       "21346 2024-11-18  14:49:00  \n",
       "21348 2024-11-18  14:50:00  "
      ]
     },
     "execution_count": 13,
     "metadata": {},
     "output_type": "execute_result"
    }
   ],
   "source": [
    "df.sort_values(by= 'endTime', ascending= True).tail()"
   ]
  },
  {
   "cell_type": "markdown",
   "id": "73900e1a-b154-47b9-b5ec-a12eb09fb2b8",
   "metadata": {},
   "source": [
    "Now we can see that our data starts from 18th Nov of 2023 and ends on the same date of 2024.<br>\n",
    "We for this project need our data for the year 2024 only.<br>\n",
    "Let's filter out streaming data for year 2024."
   ]
  },
  {
   "cell_type": "code",
   "execution_count": 14,
   "id": "10dc3fee-f644-4788-97b8-38e92a1269f5",
   "metadata": {},
   "outputs": [],
   "source": [
    "df = df.loc[df['endTime'].dt.year == 2024]"
   ]
  },
  {
   "cell_type": "code",
   "execution_count": 15,
   "id": "1e8f2efd-9d1c-43b8-8159-315002b4a777",
   "metadata": {},
   "outputs": [
    {
     "data": {
      "text/plain": [
       "(17646, 6)"
      ]
     },
     "execution_count": 15,
     "metadata": {},
     "output_type": "execute_result"
    }
   ],
   "source": [
    "df.shape"
   ]
  },
  {
   "cell_type": "code",
   "execution_count": 16,
   "id": "b98e067f-49c2-4a79-bdd5-628de049266e",
   "metadata": {},
   "outputs": [
    {
     "data": {
      "text/html": [
       "<div>\n",
       "<style scoped>\n",
       "    .dataframe tbody tr th:only-of-type {\n",
       "        vertical-align: middle;\n",
       "    }\n",
       "\n",
       "    .dataframe tbody tr th {\n",
       "        vertical-align: top;\n",
       "    }\n",
       "\n",
       "    .dataframe thead th {\n",
       "        text-align: right;\n",
       "    }\n",
       "</style>\n",
       "<table border=\"1\" class=\"dataframe\">\n",
       "  <thead>\n",
       "    <tr style=\"text-align: right;\">\n",
       "      <th></th>\n",
       "      <th>endTime</th>\n",
       "      <th>artistName</th>\n",
       "      <th>trackName</th>\n",
       "      <th>msPlayed</th>\n",
       "      <th>date</th>\n",
       "      <th>time</th>\n",
       "    </tr>\n",
       "  </thead>\n",
       "  <tbody>\n",
       "  </tbody>\n",
       "</table>\n",
       "</div>"
      ],
      "text/plain": [
       "Empty DataFrame\n",
       "Columns: [endTime, artistName, trackName, msPlayed, date, time]\n",
       "Index: []"
      ]
     },
     "execution_count": 16,
     "metadata": {},
     "output_type": "execute_result"
    }
   ],
   "source": [
    "# verifying filter\n",
    "df.loc[df['endTime'].dt.year != 2024]"
   ]
  },
  {
   "cell_type": "markdown",
   "id": "8ac2f3b6-0921-48f2-bf90-659779e1f2af",
   "metadata": {},
   "source": [
    "#### Checking NaN's and Duplicates"
   ]
  },
  {
   "cell_type": "code",
   "execution_count": 17,
   "id": "9bf88482-6f82-4d77-b0ad-28a9709582da",
   "metadata": {},
   "outputs": [
    {
     "data": {
      "text/html": [
       "<div>\n",
       "<style scoped>\n",
       "    .dataframe tbody tr th:only-of-type {\n",
       "        vertical-align: middle;\n",
       "    }\n",
       "\n",
       "    .dataframe tbody tr th {\n",
       "        vertical-align: top;\n",
       "    }\n",
       "\n",
       "    .dataframe thead th {\n",
       "        text-align: right;\n",
       "    }\n",
       "</style>\n",
       "<table border=\"1\" class=\"dataframe\">\n",
       "  <thead>\n",
       "    <tr style=\"text-align: right;\">\n",
       "      <th></th>\n",
       "      <th>endTime</th>\n",
       "      <th>artistName</th>\n",
       "      <th>trackName</th>\n",
       "      <th>msPlayed</th>\n",
       "      <th>date</th>\n",
       "      <th>time</th>\n",
       "    </tr>\n",
       "  </thead>\n",
       "  <tbody>\n",
       "  </tbody>\n",
       "</table>\n",
       "</div>"
      ],
      "text/plain": [
       "Empty DataFrame\n",
       "Columns: [endTime, artistName, trackName, msPlayed, date, time]\n",
       "Index: []"
      ]
     },
     "execution_count": 17,
     "metadata": {},
     "output_type": "execute_result"
    }
   ],
   "source": [
    "df[df.duplicated]"
   ]
  },
  {
   "cell_type": "code",
   "execution_count": 18,
   "id": "017f2de0-23fc-4865-8b1c-1d0b6d0e390e",
   "metadata": {},
   "outputs": [
    {
     "data": {
      "text/plain": [
       "endTime       0\n",
       "artistName    0\n",
       "trackName     0\n",
       "msPlayed      0\n",
       "date          0\n",
       "time          0\n",
       "dtype: int64"
      ]
     },
     "execution_count": 18,
     "metadata": {},
     "output_type": "execute_result"
    }
   ],
   "source": [
    "df.isna().sum()"
   ]
  },
  {
   "cell_type": "markdown",
   "id": "6f6c0bc5-d541-46f5-a884-d6b1404496b1",
   "metadata": {},
   "source": [
    "## Understanding Marquee"
   ]
  },
  {
   "cell_type": "code",
   "execution_count": 19,
   "id": "85934b8a-9b78-42dc-a2e3-05f805549697",
   "metadata": {},
   "outputs": [],
   "source": [
    "artSeg = pd.read_json(r\"C:\\Users\\91897\\Downloads\\my spotify data\\last year data\\Spotify Account Data\\Marquee.json\")"
   ]
  },
  {
   "cell_type": "code",
   "execution_count": 20,
   "id": "041705d5-ecef-43a9-a7e4-447c7dcef67c",
   "metadata": {},
   "outputs": [
    {
     "data": {
      "text/html": [
       "<div>\n",
       "<style scoped>\n",
       "    .dataframe tbody tr th:only-of-type {\n",
       "        vertical-align: middle;\n",
       "    }\n",
       "\n",
       "    .dataframe tbody tr th {\n",
       "        vertical-align: top;\n",
       "    }\n",
       "\n",
       "    .dataframe thead th {\n",
       "        text-align: right;\n",
       "    }\n",
       "</style>\n",
       "<table border=\"1\" class=\"dataframe\">\n",
       "  <thead>\n",
       "    <tr style=\"text-align: right;\">\n",
       "      <th></th>\n",
       "      <th>artistName</th>\n",
       "      <th>segment</th>\n",
       "    </tr>\n",
       "  </thead>\n",
       "  <tbody>\n",
       "    <tr>\n",
       "      <th>0</th>\n",
       "      <td>Prashant Pandey</td>\n",
       "      <td>Previously Active Listeners</td>\n",
       "    </tr>\n",
       "    <tr>\n",
       "      <th>1</th>\n",
       "      <td>Devil J</td>\n",
       "      <td>Previously Active Listeners</td>\n",
       "    </tr>\n",
       "    <tr>\n",
       "      <th>2</th>\n",
       "      <td>Gym Class Heroes</td>\n",
       "      <td>Previously Active Listeners</td>\n",
       "    </tr>\n",
       "    <tr>\n",
       "      <th>3</th>\n",
       "      <td>Aniket Raturi</td>\n",
       "      <td>Super Listeners</td>\n",
       "    </tr>\n",
       "    <tr>\n",
       "      <th>4</th>\n",
       "      <td>Anu Malik</td>\n",
       "      <td>Previously Active Listeners</td>\n",
       "    </tr>\n",
       "  </tbody>\n",
       "</table>\n",
       "</div>"
      ],
      "text/plain": [
       "         artistName                      segment\n",
       "0   Prashant Pandey  Previously Active Listeners\n",
       "1           Devil J  Previously Active Listeners\n",
       "2  Gym Class Heroes  Previously Active Listeners\n",
       "3     Aniket Raturi              Super Listeners\n",
       "4         Anu Malik  Previously Active Listeners"
      ]
     },
     "execution_count": 20,
     "metadata": {},
     "output_type": "execute_result"
    }
   ],
   "source": [
    "artSeg.head()"
   ]
  },
  {
   "cell_type": "markdown",
   "id": "2d01be56-a34d-4568-b6d7-d89924050ba8",
   "metadata": {},
   "source": [
    "Segment is the category on which a user falls for a specific artist, this is calculated on the basis of interaction with that particular artist."
   ]
  },
  {
   "cell_type": "markdown",
   "id": "31f14a1a-f9eb-492c-a402-7491ba09134a",
   "metadata": {},
   "source": [
    "#### Checking for NaNs' and Duplicates"
   ]
  },
  {
   "cell_type": "code",
   "execution_count": 21,
   "id": "03d618aa-144c-422b-8c07-23b64026e494",
   "metadata": {
    "scrolled": true
   },
   "outputs": [
    {
     "data": {
      "text/html": [
       "<div>\n",
       "<style scoped>\n",
       "    .dataframe tbody tr th:only-of-type {\n",
       "        vertical-align: middle;\n",
       "    }\n",
       "\n",
       "    .dataframe tbody tr th {\n",
       "        vertical-align: top;\n",
       "    }\n",
       "\n",
       "    .dataframe thead th {\n",
       "        text-align: right;\n",
       "    }\n",
       "</style>\n",
       "<table border=\"1\" class=\"dataframe\">\n",
       "  <thead>\n",
       "    <tr style=\"text-align: right;\">\n",
       "      <th></th>\n",
       "      <th>artistName</th>\n",
       "      <th>segment</th>\n",
       "    </tr>\n",
       "  </thead>\n",
       "  <tbody>\n",
       "    <tr>\n",
       "      <th>117</th>\n",
       "      <td>IShowSpeed</td>\n",
       "      <td>Previously Active Listeners</td>\n",
       "    </tr>\n",
       "    <tr>\n",
       "      <th>524</th>\n",
       "      <td>Chhotu Shikari</td>\n",
       "      <td>Previously Active Listeners</td>\n",
       "    </tr>\n",
       "    <tr>\n",
       "      <th>596</th>\n",
       "      <td>AUR</td>\n",
       "      <td>Previously Active Listeners</td>\n",
       "    </tr>\n",
       "    <tr>\n",
       "      <th>608</th>\n",
       "      <td>Savage</td>\n",
       "      <td>Previously Active Listeners</td>\n",
       "    </tr>\n",
       "    <tr>\n",
       "      <th>701</th>\n",
       "      <td>Hasan Raheem</td>\n",
       "      <td>Moderate listeners</td>\n",
       "    </tr>\n",
       "    <tr>\n",
       "      <th>704</th>\n",
       "      <td>UZIII</td>\n",
       "      <td>Previously Active Listeners</td>\n",
       "    </tr>\n",
       "    <tr>\n",
       "      <th>809</th>\n",
       "      <td>Talha Anjum</td>\n",
       "      <td>Previously Active Listeners</td>\n",
       "    </tr>\n",
       "    <tr>\n",
       "      <th>1009</th>\n",
       "      <td>Talhah Yunus</td>\n",
       "      <td>Super Listeners</td>\n",
       "    </tr>\n",
       "    <tr>\n",
       "      <th>1052</th>\n",
       "      <td>Boby Raja</td>\n",
       "      <td>Previously Active Listeners</td>\n",
       "    </tr>\n",
       "    <tr>\n",
       "      <th>1054</th>\n",
       "      <td>Sreeram</td>\n",
       "      <td>Previously Active Listeners</td>\n",
       "    </tr>\n",
       "    <tr>\n",
       "      <th>1127</th>\n",
       "      <td>Jam8</td>\n",
       "      <td>Previously Active Listeners</td>\n",
       "    </tr>\n",
       "    <tr>\n",
       "      <th>1297</th>\n",
       "      <td>Savage</td>\n",
       "      <td>Previously Active Listeners</td>\n",
       "    </tr>\n",
       "  </tbody>\n",
       "</table>\n",
       "</div>"
      ],
      "text/plain": [
       "          artistName                      segment\n",
       "117       IShowSpeed  Previously Active Listeners\n",
       "524   Chhotu Shikari  Previously Active Listeners\n",
       "596              AUR  Previously Active Listeners\n",
       "608           Savage  Previously Active Listeners\n",
       "701     Hasan Raheem           Moderate listeners\n",
       "704            UZIII  Previously Active Listeners\n",
       "809      Talha Anjum  Previously Active Listeners\n",
       "1009    Talhah Yunus              Super Listeners\n",
       "1052       Boby Raja  Previously Active Listeners\n",
       "1054         Sreeram  Previously Active Listeners\n",
       "1127            Jam8  Previously Active Listeners\n",
       "1297          Savage  Previously Active Listeners"
      ]
     },
     "execution_count": 21,
     "metadata": {},
     "output_type": "execute_result"
    }
   ],
   "source": [
    "artSeg[artSeg['artistName'].duplicated()]"
   ]
  },
  {
   "cell_type": "markdown",
   "id": "7f747fe9-109d-4e5f-a24b-c5896bc38d69",
   "metadata": {},
   "source": [
    "This is because this file is created over intervals of time and gets refreshed each time, it is possible that in two different intervals a users interaction with one artist changed.<br>\n",
    "Therefore it is important here to take care of this matter."
   ]
  },
  {
   "cell_type": "code",
   "execution_count": 22,
   "id": "5cf7a7b1-eb9e-40eb-a475-9dfb4efcd0c3",
   "metadata": {},
   "outputs": [
    {
     "data": {
      "text/html": [
       "<div>\n",
       "<style scoped>\n",
       "    .dataframe tbody tr th:only-of-type {\n",
       "        vertical-align: middle;\n",
       "    }\n",
       "\n",
       "    .dataframe tbody tr th {\n",
       "        vertical-align: top;\n",
       "    }\n",
       "\n",
       "    .dataframe thead th {\n",
       "        text-align: right;\n",
       "    }\n",
       "</style>\n",
       "<table border=\"1\" class=\"dataframe\">\n",
       "  <thead>\n",
       "    <tr style=\"text-align: right;\">\n",
       "      <th></th>\n",
       "      <th>artistName</th>\n",
       "      <th>segment</th>\n",
       "    </tr>\n",
       "  </thead>\n",
       "  <tbody>\n",
       "    <tr>\n",
       "      <th>421</th>\n",
       "      <td>Hasan Raheem</td>\n",
       "      <td>Previously Active Listeners</td>\n",
       "    </tr>\n",
       "    <tr>\n",
       "      <th>701</th>\n",
       "      <td>Hasan Raheem</td>\n",
       "      <td>Moderate listeners</td>\n",
       "    </tr>\n",
       "  </tbody>\n",
       "</table>\n",
       "</div>"
      ],
      "text/plain": [
       "       artistName                      segment\n",
       "421  Hasan Raheem  Previously Active Listeners\n",
       "701  Hasan Raheem           Moderate listeners"
      ]
     },
     "execution_count": 22,
     "metadata": {},
     "output_type": "execute_result"
    }
   ],
   "source": [
    "artSeg.loc[artSeg['artistName'] == 'Hasan Raheem']"
   ]
  },
  {
   "cell_type": "markdown",
   "id": "1aca34d5-2d0f-4a53-acea-b7ae18d5f83e",
   "metadata": {},
   "source": [
    "Since this data is on the basis of my Spotify Account, I can verify that the latest segment is correct one, so we'll drop our duplicates and keep only the one that we've in early indexes or the first ones."
   ]
  },
  {
   "cell_type": "code",
   "execution_count": 23,
   "id": "a246e336-6e23-4a26-a3d4-480ab6e975d2",
   "metadata": {},
   "outputs": [],
   "source": [
    "artSeg.drop_duplicates('artistName', keep= 'first', inplace= True)"
   ]
  },
  {
   "cell_type": "code",
   "execution_count": 24,
   "id": "3c95706e-444f-4627-972c-256d15e3ecc7",
   "metadata": {},
   "outputs": [
    {
     "data": {
      "text/plain": [
       "artistName    0\n",
       "segment       0\n",
       "dtype: int64"
      ]
     },
     "execution_count": 24,
     "metadata": {},
     "output_type": "execute_result"
    }
   ],
   "source": [
    "artSeg.isna().sum()"
   ]
  },
  {
   "cell_type": "markdown",
   "id": "8be6ef08-aabb-4f40-a18b-f0c6e355e227",
   "metadata": {},
   "source": [
    "Now we can add this to our artist data dataframe."
   ]
  },
  {
   "cell_type": "markdown",
   "id": "ec413e1a-fe4f-4684-9c6c-c31251d2fc0f",
   "metadata": {},
   "source": [
    "## Understanding Playlist1.json"
   ]
  },
  {
   "cell_type": "markdown",
   "id": "61678245-8870-434e-abe8-5b03bdc58674",
   "metadata": {},
   "source": [
    "We can't directly convert this json object into a dataframe first of all we need to understand the logic of this json file then only we can work with this."
   ]
  },
  {
   "cell_type": "code",
   "execution_count": 25,
   "id": "77223dd2-ef64-4dc3-9b63-09c0e4421fe7",
   "metadata": {},
   "outputs": [],
   "source": [
    "with open(r\"C:\\Users\\91897\\Downloads\\my spotify data\\last year data\\Spotify Account Data\\Playlist1.json\", 'r', encoding= 'utf8') as f:\n",
    "    raw = json.load(f)"
   ]
  },
  {
   "cell_type": "markdown",
   "id": "6b3c163d-222d-4d38-92cf-e1664b0531a4",
   "metadata": {},
   "source": [
    "Till now the json object looks like it contains values like this:<br>\n",
    "playlists<br>\n",
    "____playlist_name<br>\n",
    "________allTracks in that particular playlist<br>\n",
    "____playlist_name<br>\n",
    "________allTracks in that particular playlist<br>"
   ]
  },
  {
   "cell_type": "markdown",
   "id": "854752e4-a5a1-41eb-8f55-97ff56091c81",
   "metadata": {},
   "source": [
    "I need data only for my 4 playlists that I use mostly, since I know name of these playlists I can have the data for only them"
   ]
  },
  {
   "cell_type": "markdown",
   "id": "41796dd1-6d5c-4f24-b8e5-391d1b8b7488",
   "metadata": {},
   "source": [
    "Name of playlists I'm interested in:<br>\n",
    "'gauraV 🛌'<br>\n",
    "'gauraV :)'<br>\n",
    "'gauraV⛔'<br>\n",
    "'gauraV⚡'"
   ]
  },
  {
   "cell_type": "code",
   "execution_count": 26,
   "id": "126e24de-59bd-4eea-a3e9-58f8baef0481",
   "metadata": {},
   "outputs": [
    {
     "name": "stdout",
     "output_type": "stream",
     "text": [
      "Printing tracks for English playlist\n",
      "Better\n",
      "I Don’t Wanna Live Forever (Fifty Shades Darker)\n",
      "Memories\n",
      "Girls Like You (feat. Cardi B) - Cardi B Version\n",
      "Nobody's Love (feat. Popcaan) - Remix\n",
      "Señorita\n",
      "It's You\n",
      "Beautiful People (feat. Khalid)\n",
      "Trampoline (with ZAYN)\n"
     ]
    }
   ],
   "source": [
    "l = raw['playlists']\n",
    "c = 1\n",
    "for i in l:\n",
    "    if i['name'] == 'gauraV⛔':\n",
    "        print(\"Printing tracks for English playlist\")\n",
    "        tracks = i['items']\n",
    "        for k in tracks:\n",
    "            print(k['track']['trackName'])\n",
    "            c += 1\n",
    "            if c == 10:\n",
    "                break"
   ]
  },
  {
   "cell_type": "markdown",
   "id": "b2396918-1c52-4593-851a-77c649622f12",
   "metadata": {},
   "source": [
    "As we can see our logic is working and giving us the info on the basis of playlists that we've, let's try to understand where our all playlists are stored."
   ]
  },
  {
   "cell_type": "code",
   "execution_count": 27,
   "id": "64dec477-f45c-42e5-8a8d-050f02d1d778",
   "metadata": {},
   "outputs": [],
   "source": [
    "myPlaylistIndex = []\n",
    "for i in range(len(l)):\n",
    "    if l[i]['name'] == 'gauraV :)':\n",
    "        myPlaylistIndex.append(i)\n",
    "    if l[i]['name'] == 'gauraV⛔':\n",
    "        myPlaylistIndex.append(i)\n",
    "    if l[i]['name'] == 'gauraV⚡':\n",
    "        myPlaylistIndex.append(i)\n",
    "    if l[i]['name'] == 'gauraV 🛌':\n",
    "        myPlaylistIndex.append(i)"
   ]
  },
  {
   "cell_type": "code",
   "execution_count": 28,
   "id": "04297853-5a2c-4343-997e-ccbfbba11d74",
   "metadata": {},
   "outputs": [
    {
     "data": {
      "text/plain": [
       "[7, 10, 13, 15]"
      ]
     },
     "execution_count": 28,
     "metadata": {},
     "output_type": "execute_result"
    }
   ],
   "source": [
    "myPlaylistIndex"
   ]
  },
  {
   "cell_type": "markdown",
   "id": "f25a87ba-30d8-4127-8a94-9eed1de1a3d3",
   "metadata": {},
   "source": [
    "Extracting the playlist name and trackAdded for each track"
   ]
  },
  {
   "cell_type": "code",
   "execution_count": 29,
   "id": "8f7ba3f0-4cef-4a6f-9df1-a49044a7f9c3",
   "metadata": {},
   "outputs": [
    {
     "data": {
      "text/plain": [
       "182"
      ]
     },
     "execution_count": 29,
     "metadata": {},
     "output_type": "execute_result"
    }
   ],
   "source": [
    "k = l[7]['items']\n",
    "len(k)"
   ]
  },
  {
   "cell_type": "code",
   "execution_count": 30,
   "id": "74697c4d-9f1d-4cb9-bf98-b1af43d0b493",
   "metadata": {},
   "outputs": [
    {
     "name": "stdout",
     "output_type": "stream",
     "text": [
      "12:00 AM\n",
      "2023-07-13\n",
      "Downers At Dusk\n",
      "2023-07-13\n",
      "Gumaan\n",
      "2023-07-13\n",
      "No Other Place\n",
      "2023-07-13\n",
      "Phir Milenge\n",
      "2023-07-13\n",
      "Samjho Na\n",
      "2023-07-13\n",
      "Iraaday\n",
      "2023-07-13\n",
      "Haaray\n",
      "2023-07-13\n",
      "Bikhra\n",
      "2023-07-13\n"
     ]
    }
   ],
   "source": [
    "c = 1\n",
    "for i in k:\n",
    "    print(i['track']['trackName'])\n",
    "    print(i['addedDate'])\n",
    "    c += 1\n",
    "    if c == 10:\n",
    "        break"
   ]
  },
  {
   "cell_type": "markdown",
   "id": "f6ce4c36-9b21-49f6-ab26-145cca4ea999",
   "metadata": {},
   "source": [
    "With this logic let's create a dataframe quickly using a nested loop"
   ]
  },
  {
   "cell_type": "code",
   "execution_count": 31,
   "id": "ab103feb-630c-4b3e-a989-a94a936477c8",
   "metadata": {},
   "outputs": [
    {
     "name": "stdout",
     "output_type": "stream",
     "text": [
      "Total Tracks in gauraV 🛌 are 182\n",
      "Total Tracks in gauraV⚡ are 379\n",
      "Total Tracks in gauraV :) are 266\n",
      "Total Tracks in gauraV⛔ are 288\n"
     ]
    }
   ],
   "source": [
    "for i in myPlaylistIndex:\n",
    "    playlist = l[i]\n",
    "    print(f\"Total Tracks in {playlist['name']} are {len(playlist['items'])}\")"
   ]
  },
  {
   "cell_type": "markdown",
   "id": "3d511304-a6cc-43e5-a1e1-95653bebfd34",
   "metadata": {},
   "source": [
    "Now we're ready to work with this, we'll create a empty datframe and with each iteration we'll try to fill it"
   ]
  },
  {
   "cell_type": "code",
   "execution_count": 32,
   "id": "f89000e7-abb0-4d47-852e-e1ca13d231f6",
   "metadata": {},
   "outputs": [],
   "source": [
    "plTracks = pd.DataFrame(columns= ['trackName', 'playlistName', 'dateAdded'])\n",
    "for i in myPlaylistIndex:\n",
    "    allTracks = l[i]['items']\n",
    "    for k in range(len(allTracks)):\n",
    "        playlistName = l[i]['name']\n",
    "        trackName = l[i]['items'][k]['track']['trackName']\n",
    "        dateAdded = l[i]['items'][k]['addedDate']\n",
    "        values = [trackName, playlistName, dateAdded]\n",
    "        columns = ['trackName', 'playlistName', 'dateAdded']\n",
    "        plTracks = pd.concat([plTracks, pd.DataFrame([values], columns= columns)], ignore_index= True)"
   ]
  },
  {
   "cell_type": "code",
   "execution_count": 33,
   "id": "5bd20c50-9010-480b-b238-4a012c2c32bf",
   "metadata": {},
   "outputs": [
    {
     "data": {
      "text/html": [
       "<div>\n",
       "<style scoped>\n",
       "    .dataframe tbody tr th:only-of-type {\n",
       "        vertical-align: middle;\n",
       "    }\n",
       "\n",
       "    .dataframe tbody tr th {\n",
       "        vertical-align: top;\n",
       "    }\n",
       "\n",
       "    .dataframe thead th {\n",
       "        text-align: right;\n",
       "    }\n",
       "</style>\n",
       "<table border=\"1\" class=\"dataframe\">\n",
       "  <thead>\n",
       "    <tr style=\"text-align: right;\">\n",
       "      <th></th>\n",
       "      <th>trackName</th>\n",
       "      <th>playlistName</th>\n",
       "      <th>dateAdded</th>\n",
       "    </tr>\n",
       "  </thead>\n",
       "  <tbody>\n",
       "    <tr>\n",
       "      <th>338</th>\n",
       "      <td>RA TA TA</td>\n",
       "      <td>gauraV⚡</td>\n",
       "      <td>2024-01-26</td>\n",
       "    </tr>\n",
       "    <tr>\n",
       "      <th>223</th>\n",
       "      <td>WuShang Clan</td>\n",
       "      <td>gauraV⚡</td>\n",
       "      <td>2023-03-06</td>\n",
       "    </tr>\n",
       "    <tr>\n",
       "      <th>943</th>\n",
       "      <td>Copines</td>\n",
       "      <td>gauraV⛔</td>\n",
       "      <td>2022-02-11</td>\n",
       "    </tr>\n",
       "    <tr>\n",
       "      <th>350</th>\n",
       "      <td>Naseeb</td>\n",
       "      <td>gauraV⚡</td>\n",
       "      <td>2024-02-01</td>\n",
       "    </tr>\n",
       "    <tr>\n",
       "      <th>822</th>\n",
       "      <td>Tumhare Aane Se</td>\n",
       "      <td>gauraV :)</td>\n",
       "      <td>2024-05-16</td>\n",
       "    </tr>\n",
       "  </tbody>\n",
       "</table>\n",
       "</div>"
      ],
      "text/plain": [
       "           trackName playlistName   dateAdded\n",
       "338         RA TA TA      gauraV⚡  2024-01-26\n",
       "223     WuShang Clan      gauraV⚡  2023-03-06\n",
       "943          Copines      gauraV⛔  2022-02-11\n",
       "350           Naseeb      gauraV⚡  2024-02-01\n",
       "822  Tumhare Aane Se    gauraV :)  2024-05-16"
      ]
     },
     "execution_count": 33,
     "metadata": {},
     "output_type": "execute_result"
    }
   ],
   "source": [
    "plTracks.sample(5)"
   ]
  },
  {
   "cell_type": "markdown",
   "id": "92cea0e0-6e68-404b-a548-60d8e76123b2",
   "metadata": {},
   "source": [
    "#### Checking for Duplicates"
   ]
  },
  {
   "cell_type": "code",
   "execution_count": 34,
   "id": "bb03816a-8afe-499b-9547-d7cde8634cc8",
   "metadata": {},
   "outputs": [
    {
     "data": {
      "text/html": [
       "<div>\n",
       "<style scoped>\n",
       "    .dataframe tbody tr th:only-of-type {\n",
       "        vertical-align: middle;\n",
       "    }\n",
       "\n",
       "    .dataframe tbody tr th {\n",
       "        vertical-align: top;\n",
       "    }\n",
       "\n",
       "    .dataframe thead th {\n",
       "        text-align: right;\n",
       "    }\n",
       "</style>\n",
       "<table border=\"1\" class=\"dataframe\">\n",
       "  <thead>\n",
       "    <tr style=\"text-align: right;\">\n",
       "      <th></th>\n",
       "      <th>trackName</th>\n",
       "      <th>playlistName</th>\n",
       "      <th>dateAdded</th>\n",
       "    </tr>\n",
       "  </thead>\n",
       "  <tbody>\n",
       "    <tr>\n",
       "      <th>108</th>\n",
       "      <td>Teri Yaad</td>\n",
       "      <td>gauraV 🛌</td>\n",
       "      <td>2024-02-03</td>\n",
       "    </tr>\n",
       "    <tr>\n",
       "      <th>115</th>\n",
       "      <td>Hausla</td>\n",
       "      <td>gauraV 🛌</td>\n",
       "      <td>2024-02-03</td>\n",
       "    </tr>\n",
       "    <tr>\n",
       "      <th>116</th>\n",
       "      <td>Raabta</td>\n",
       "      <td>gauraV 🛌</td>\n",
       "      <td>2024-02-03</td>\n",
       "    </tr>\n",
       "    <tr>\n",
       "      <th>153</th>\n",
       "      <td>Baat Bangayi</td>\n",
       "      <td>gauraV 🛌</td>\n",
       "      <td>2024-04-13</td>\n",
       "    </tr>\n",
       "    <tr>\n",
       "      <th>171</th>\n",
       "      <td>Awaara</td>\n",
       "      <td>gauraV 🛌</td>\n",
       "      <td>2024-05-28</td>\n",
       "    </tr>\n",
       "    <tr>\n",
       "      <th>...</th>\n",
       "      <td>...</td>\n",
       "      <td>...</td>\n",
       "      <td>...</td>\n",
       "    </tr>\n",
       "    <tr>\n",
       "      <th>1095</th>\n",
       "      <td>Be Friends</td>\n",
       "      <td>gauraV⛔</td>\n",
       "      <td>2024-02-23</td>\n",
       "    </tr>\n",
       "    <tr>\n",
       "      <th>1101</th>\n",
       "      <td>Soulmate</td>\n",
       "      <td>gauraV⛔</td>\n",
       "      <td>2024-03-18</td>\n",
       "    </tr>\n",
       "    <tr>\n",
       "      <th>1103</th>\n",
       "      <td>Devotion</td>\n",
       "      <td>gauraV⛔</td>\n",
       "      <td>2024-04-05</td>\n",
       "    </tr>\n",
       "    <tr>\n",
       "      <th>1106</th>\n",
       "      <td>Skate</td>\n",
       "      <td>gauraV⛔</td>\n",
       "      <td>2024-04-29</td>\n",
       "    </tr>\n",
       "    <tr>\n",
       "      <th>1108</th>\n",
       "      <td>Ambition For Cash</td>\n",
       "      <td>gauraV⛔</td>\n",
       "      <td>2024-06-02</td>\n",
       "    </tr>\n",
       "  </tbody>\n",
       "</table>\n",
       "<p>75 rows × 3 columns</p>\n",
       "</div>"
      ],
      "text/plain": [
       "              trackName playlistName   dateAdded\n",
       "108           Teri Yaad     gauraV 🛌  2024-02-03\n",
       "115              Hausla     gauraV 🛌  2024-02-03\n",
       "116              Raabta     gauraV 🛌  2024-02-03\n",
       "153        Baat Bangayi     gauraV 🛌  2024-04-13\n",
       "171              Awaara     gauraV 🛌  2024-05-28\n",
       "...                 ...          ...         ...\n",
       "1095         Be Friends      gauraV⛔  2024-02-23\n",
       "1101           Soulmate      gauraV⛔  2024-03-18\n",
       "1103           Devotion      gauraV⛔  2024-04-05\n",
       "1106              Skate      gauraV⛔  2024-04-29\n",
       "1108  Ambition For Cash      gauraV⛔  2024-06-02\n",
       "\n",
       "[75 rows x 3 columns]"
      ]
     },
     "execution_count": 34,
     "metadata": {},
     "output_type": "execute_result"
    }
   ],
   "source": [
    "plTracks.loc[plTracks['trackName'].duplicated()]"
   ]
  },
  {
   "cell_type": "markdown",
   "id": "a0f7b96a-382e-4eca-b359-631fb879340d",
   "metadata": {},
   "source": [
    "Here there is a high probability that some of my tracks are saved in multiple playlists, therefore, we'll choose only the onles who appeafn first"
   ]
  },
  {
   "cell_type": "code",
   "execution_count": 35,
   "id": "ff9041ba-d8cd-41a4-a5c6-e604d31dfeb8",
   "metadata": {},
   "outputs": [],
   "source": [
    "plTracks.drop_duplicates(subset= 'trackName', keep= 'first', inplace= True)"
   ]
  },
  {
   "cell_type": "markdown",
   "id": "562418ed-4d87-4951-aacb-171cfa68980b",
   "metadata": {},
   "source": [
    "## Loading data related to artists"
   ]
  },
  {
   "cell_type": "markdown",
   "id": "093039ad-361c-47c1-ad05-f8320715c6fe",
   "metadata": {},
   "source": [
    "Image"
   ]
  },
  {
   "cell_type": "code",
   "execution_count": 36,
   "id": "9b4df3c6-ab7b-4f1e-ba9a-f291c5846728",
   "metadata": {},
   "outputs": [],
   "source": [
    "with open('imageArtist.pkl', 'rb') as f:\n",
    "    imgArt = pk.load(f)"
   ]
  },
  {
   "cell_type": "markdown",
   "id": "022785de-4a77-4110-92eb-e4b55dab5b4e",
   "metadata": {},
   "source": [
    "Genre"
   ]
  },
  {
   "cell_type": "code",
   "execution_count": 37,
   "id": "a664a8fd-42fa-48bc-b4e8-a0fc35c1b713",
   "metadata": {},
   "outputs": [],
   "source": [
    "with open('genreArtist.pkl', 'rb') as f:\n",
    "    genArt = pk.load(f)"
   ]
  },
  {
   "cell_type": "markdown",
   "id": "17fa6348-dd2e-422a-865b-8ad3dbdb484d",
   "metadata": {},
   "source": [
    "Popularity"
   ]
  },
  {
   "cell_type": "code",
   "execution_count": 38,
   "id": "a0f21ef1-3333-4a69-be1e-cc491ad4b0cd",
   "metadata": {},
   "outputs": [],
   "source": [
    "with open('popularityArtist.pkl', 'rb') as f:\n",
    "    popArt = pk.load(f)"
   ]
  },
  {
   "cell_type": "code",
   "execution_count": 39,
   "id": "e21aa7e7-6399-424c-8f27-609e7867925a",
   "metadata": {},
   "outputs": [
    {
     "name": "stdout",
     "output_type": "stream",
     "text": [
      "788 677 676\n"
     ]
    }
   ],
   "source": [
    "print(len(imgArt), len(genArt), len(popArt))"
   ]
  },
  {
   "cell_type": "markdown",
   "id": "75d182bb-3b3e-4dec-b146-47b35b09152d",
   "metadata": {},
   "source": [
    "#### Converting all of this data into dataframes"
   ]
  },
  {
   "cell_type": "markdown",
   "id": "30d9326f-1012-4f6f-8b43-cc11028ecd88",
   "metadata": {},
   "source": [
    "Artist Image"
   ]
  },
  {
   "cell_type": "code",
   "execution_count": 40,
   "id": "57424a16-547a-443a-85da-7af520cdb9c5",
   "metadata": {},
   "outputs": [],
   "source": [
    "data = list(imgArt.items())\n",
    "artImg = pd.DataFrame(data, columns= ['artistName', 'imgLink'])"
   ]
  },
  {
   "cell_type": "code",
   "execution_count": 43,
   "id": "17dc8b51-fe27-41b4-8ced-9c7b1bcb4479",
   "metadata": {},
   "outputs": [],
   "source": [
    "artImg.to_csv('artImg.csv')"
   ]
  },
  {
   "cell_type": "markdown",
   "id": "528f25b5-66d0-4e71-ae60-3ca98cc23ff1",
   "metadata": {},
   "source": [
    "Artist Genre"
   ]
  },
  {
   "cell_type": "code",
   "execution_count": 41,
   "id": "ab6ec283-0130-4f2a-a77c-024e8c3d1ce4",
   "metadata": {},
   "outputs": [],
   "source": [
    "data = list(genArt.items())\n",
    "artGen = pd.DataFrame(data, columns= ['artistName', 'genre'])"
   ]
  },
  {
   "cell_type": "code",
   "execution_count": 44,
   "id": "4d5d9aa0-cfc0-4d5d-a0cd-c43c7c1dd601",
   "metadata": {},
   "outputs": [],
   "source": [
    "artGen.to_csv('artGen.csv')"
   ]
  },
  {
   "cell_type": "markdown",
   "id": "335e9fc8-62b1-447c-ad62-7d26cca13dda",
   "metadata": {},
   "source": [
    "Artist Popularity"
   ]
  },
  {
   "cell_type": "code",
   "execution_count": 42,
   "id": "6ee5d82d-2381-4081-ad9b-472663c97b07",
   "metadata": {},
   "outputs": [],
   "source": [
    "data = list(popArt.items())\n",
    "artPop = pd.DataFrame(data, columns= ['artistName', 'popularity'])"
   ]
  },
  {
   "cell_type": "code",
   "execution_count": 46,
   "id": "511d4337-d523-4290-a192-f4485d099b79",
   "metadata": {},
   "outputs": [],
   "source": [
    "artPop.to_csv('artPop.csv')"
   ]
  },
  {
   "cell_type": "markdown",
   "id": "fff24257-6c51-4e85-bea8-ae41b78ae610",
   "metadata": {},
   "source": [
    "## Loading Data Related to Tracks"
   ]
  },
  {
   "cell_type": "markdown",
   "id": "1ba19f11-c449-41d5-8ffb-00ad79b10785",
   "metadata": {},
   "source": [
    "Image"
   ]
  },
  {
   "cell_type": "code",
   "execution_count": 43,
   "id": "5faa5ca1-5ecd-44ab-a6ff-8b8b007166bf",
   "metadata": {},
   "outputs": [],
   "source": [
    "with open('trackImages.pkl', 'rb') as f:\n",
    "    trImg = pk.load(f)"
   ]
  },
  {
   "cell_type": "markdown",
   "id": "d50f8ced-c6c9-4b1a-a9ed-427deb09e83f",
   "metadata": {},
   "source": [
    "ExplicitFlag"
   ]
  },
  {
   "cell_type": "code",
   "execution_count": 44,
   "id": "24b2c1bb-dc73-4ab8-a9b7-f19f0f8aefe0",
   "metadata": {},
   "outputs": [],
   "source": [
    "with open('trackExplicit.pkl', 'rb') as f:\n",
    "    trExp = pk.load(f)"
   ]
  },
  {
   "cell_type": "markdown",
   "id": "b92ab86d-a46b-4819-bcb2-8f2657c02520",
   "metadata": {},
   "source": [
    "Popularity"
   ]
  },
  {
   "cell_type": "code",
   "execution_count": 45,
   "id": "c44e1bee-a005-4551-887c-430258673fcb",
   "metadata": {},
   "outputs": [],
   "source": [
    "with open('trackPopularity.pkl', 'rb') as f:\n",
    "    trPop = pk.load(f)"
   ]
  },
  {
   "cell_type": "markdown",
   "id": "7af9de51-6999-410e-ac9d-2e56e5ae4820",
   "metadata": {},
   "source": [
    "Track Duration"
   ]
  },
  {
   "cell_type": "code",
   "execution_count": 46,
   "id": "6e50e597-5642-49f3-87fa-1a29fe8f9bcb",
   "metadata": {},
   "outputs": [],
   "source": [
    "with open('trackDuration.pkl', 'rb') as f:\n",
    "    trDur = pk.load(f)"
   ]
  },
  {
   "cell_type": "markdown",
   "id": "8bbf5cd4-a720-4794-ba5b-f25d5be46621",
   "metadata": {},
   "source": [
    "Track Album"
   ]
  },
  {
   "cell_type": "code",
   "execution_count": 47,
   "id": "bbcbd817-8144-4a09-a366-991e0b62f102",
   "metadata": {},
   "outputs": [],
   "source": [
    "with open('trackAlbum.pkl', 'rb') as f:\n",
    "    trAlb = pk.load(f)"
   ]
  },
  {
   "cell_type": "markdown",
   "id": "3ed8a7be-4315-4d09-a533-2290580634bc",
   "metadata": {},
   "source": [
    "Feature Artists"
   ]
  },
  {
   "cell_type": "code",
   "execution_count": 48,
   "id": "b6498821-880f-47c8-8993-ed242e721289",
   "metadata": {},
   "outputs": [],
   "source": [
    "with open('featureArtists.pkl', 'rb') as f:\n",
    "    trFeat = pk.load(f)"
   ]
  },
  {
   "cell_type": "markdown",
   "id": "6eb50c35-d416-405a-9153-6f7f9a677d6d",
   "metadata": {},
   "source": [
    "#### Converting all of these into DataFrames"
   ]
  },
  {
   "cell_type": "markdown",
   "id": "a22d216d-645d-4901-ba5e-44c2147be0b7",
   "metadata": {},
   "source": [
    "Track Image"
   ]
  },
  {
   "cell_type": "code",
   "execution_count": 49,
   "id": "d50f410d-07d1-498b-942e-e774f75824cc",
   "metadata": {},
   "outputs": [],
   "source": [
    "data = list(trImg.items())\n",
    "imgTr = pd.DataFrame(data, columns= ['trackName', 'imgLink'])"
   ]
  },
  {
   "cell_type": "code",
   "execution_count": 36,
   "id": "88030328-201c-4255-b803-395a0b08ae3f",
   "metadata": {},
   "outputs": [],
   "source": [
    "imgTr.to_csv('imgTr.csv')"
   ]
  },
  {
   "cell_type": "markdown",
   "id": "c3ce89b4-2995-4555-a723-6460d6e386bc",
   "metadata": {},
   "source": [
    "Track Explicit"
   ]
  },
  {
   "cell_type": "code",
   "execution_count": 50,
   "id": "26ec9d2a-f448-423a-8538-8a6c7e2b3166",
   "metadata": {},
   "outputs": [],
   "source": [
    "data = list(trExp.items())\n",
    "expTr = pd.DataFrame(data, columns= ['trackName', 'explicitFlag'])"
   ]
  },
  {
   "cell_type": "code",
   "execution_count": 37,
   "id": "0eb95619-fb16-45f8-a18e-69993164af5b",
   "metadata": {},
   "outputs": [],
   "source": [
    "expTr.to_csv('expTr.csv')"
   ]
  },
  {
   "cell_type": "markdown",
   "id": "8a585e55-8cf9-43df-8b7e-883a0b8abe3d",
   "metadata": {},
   "source": [
    "Track Popularity"
   ]
  },
  {
   "cell_type": "code",
   "execution_count": 51,
   "id": "05b58b9b-a8fa-4d7d-83a1-01ace8b22fdb",
   "metadata": {},
   "outputs": [],
   "source": [
    "data = list(trPop.items())\n",
    "popTr = pd.DataFrame(data, columns= ['trackName', 'popularity'])"
   ]
  },
  {
   "cell_type": "code",
   "execution_count": 38,
   "id": "d66b4a00-4525-449d-97df-96e5e1ecad7e",
   "metadata": {},
   "outputs": [],
   "source": [
    "popTr.to_csv('popTr.csv')"
   ]
  },
  {
   "cell_type": "markdown",
   "id": "3b607a1d-9173-446e-89b2-65f1c98ba536",
   "metadata": {},
   "source": [
    "Track Album"
   ]
  },
  {
   "cell_type": "code",
   "execution_count": 52,
   "id": "f24edb99-c2c3-4537-aec3-0e9f0846c527",
   "metadata": {},
   "outputs": [],
   "source": [
    "data = list(trAlb.items())\n",
    "albTr = pd.DataFrame(data, columns= ['trackName', 'albumName'])"
   ]
  },
  {
   "cell_type": "code",
   "execution_count": 39,
   "id": "b7801bae-2eb1-43a1-b2eb-f3cc583ec6ed",
   "metadata": {},
   "outputs": [],
   "source": [
    "albTr.to_csv('albTr.csv')"
   ]
  },
  {
   "cell_type": "markdown",
   "id": "64d5632e-b9ac-4f1e-9ec7-2a86de5633e0",
   "metadata": {},
   "source": [
    "Track Duration"
   ]
  },
  {
   "cell_type": "code",
   "execution_count": 53,
   "id": "dc47f3b7-db0b-4c5f-9a94-57953569110e",
   "metadata": {},
   "outputs": [],
   "source": [
    "data = list(trDur.items())\n",
    "durTr = pd.DataFrame(data, columns= ['trackName', 'duration_ms'])"
   ]
  },
  {
   "cell_type": "code",
   "execution_count": 40,
   "id": "7ed69125-1b91-48cd-97d7-82753f39c53b",
   "metadata": {},
   "outputs": [],
   "source": [
    "durTr.to_csv('durTr.csv')"
   ]
  },
  {
   "cell_type": "markdown",
   "id": "39558234-b038-42f3-8e4a-49143ec79265",
   "metadata": {},
   "source": [
    "Track Feature Artist"
   ]
  },
  {
   "cell_type": "code",
   "execution_count": 54,
   "id": "9027addf-15f6-4cba-b7ca-5f8b85cfd6f5",
   "metadata": {},
   "outputs": [],
   "source": [
    "data = list(trFeat.items())\n",
    "featTr = pd.DataFrame(data, columns = ['trackName', 'ftArtists'])"
   ]
  },
  {
   "cell_type": "code",
   "execution_count": 41,
   "id": "7ae8bac2-a5a7-4565-872f-6511ab0201bf",
   "metadata": {},
   "outputs": [],
   "source": [
    "featTr.to_csv('featTr.csv')"
   ]
  },
  {
   "cell_type": "markdown",
   "id": "2568d779-2a13-4ac1-b189-7cebd972d98b",
   "metadata": {},
   "source": [
    "## A Better Approach"
   ]
  },
  {
   "cell_type": "markdown",
   "id": "1fc89323-4012-4070-a238-c3f331b6139f",
   "metadata": {},
   "source": [
    "To make our data model light and fast, instead of saving all these dataframes as seperate CSVs we can merge them together.<br>\n",
    "Till now we've total of these dataframes:<br>\n",
    "StreamingData (df)<br>\n",
    "Marquee (artistInfo)<br>\n",
    "Playlist (plTracks)<br>\n",
    "and more data related to artist as well as image."
   ]
  },
  {
   "cell_type": "markdown",
   "id": "cd155b63-902b-43be-b44e-afe204d27dea",
   "metadata": {},
   "source": [
    "With all of this information the best thing we can do is merge them into 3 different dataframes:<br>\n",
    "1. MainStreamingData: This will contain only main data from df.\n",
    "2. MainArtistData: This will contain all the data related to artist.\n",
    "3. MainTrackData: This will contain all the data related to tracks."
   ]
  },
  {
   "cell_type": "markdown",
   "id": "32a478a0-1f28-43a7-8f19-c21408627c98",
   "metadata": {},
   "source": [
    "#### MainArtistData"
   ]
  },
  {
   "cell_type": "code",
   "execution_count": 55,
   "id": "c91b08b7-426b-4444-9b35-52da199de754",
   "metadata": {},
   "outputs": [
    {
     "name": "stdout",
     "output_type": "stream",
     "text": [
      "676 788 677 1299\n"
     ]
    }
   ],
   "source": [
    "print(len(artPop), len(artImg), len(artGen), len(artSeg))"
   ]
  },
  {
   "cell_type": "markdown",
   "id": "ee0d87b4-1b2c-44da-8758-e56fcd27198c",
   "metadata": {},
   "source": [
    "Now from here we'll join onto artImg, artSeg contains more data because it comprises data for last year also"
   ]
  },
  {
   "cell_type": "code",
   "execution_count": 56,
   "id": "70a6ec6a-69bb-4ef9-8024-cf6a15d275da",
   "metadata": {},
   "outputs": [],
   "source": [
    "mainArtist = artImg.merge(\n",
    "    artPop,\n",
    "    how= 'left',\n",
    "    on= 'artistName'\n",
    ").merge(\n",
    "    artGen,\n",
    "    how= 'left',\n",
    "    on= 'artistName'\n",
    ").merge(\n",
    "    artSeg,\n",
    "    how= 'left',\n",
    "    on= 'artistName'\n",
    ")"
   ]
  },
  {
   "cell_type": "code",
   "execution_count": 57,
   "id": "92acd2f3-0a0b-43e3-a514-d746ef3db54f",
   "metadata": {},
   "outputs": [
    {
     "data": {
      "text/plain": [
       "True"
      ]
     },
     "execution_count": 57,
     "metadata": {},
     "output_type": "execute_result"
    }
   ],
   "source": [
    "len(mainArtist) == len(artImg)"
   ]
  },
  {
   "cell_type": "code",
   "execution_count": 58,
   "id": "e69e4fde-dea7-469c-99c2-597f65fb6f22",
   "metadata": {},
   "outputs": [
    {
     "data": {
      "text/html": [
       "<div>\n",
       "<style scoped>\n",
       "    .dataframe tbody tr th:only-of-type {\n",
       "        vertical-align: middle;\n",
       "    }\n",
       "\n",
       "    .dataframe tbody tr th {\n",
       "        vertical-align: top;\n",
       "    }\n",
       "\n",
       "    .dataframe thead th {\n",
       "        text-align: right;\n",
       "    }\n",
       "</style>\n",
       "<table border=\"1\" class=\"dataframe\">\n",
       "  <thead>\n",
       "    <tr style=\"text-align: right;\">\n",
       "      <th></th>\n",
       "      <th>artistName</th>\n",
       "      <th>imgLink</th>\n",
       "      <th>popularity</th>\n",
       "      <th>genre</th>\n",
       "      <th>segment</th>\n",
       "    </tr>\n",
       "  </thead>\n",
       "  <tbody>\n",
       "    <tr>\n",
       "      <th>698</th>\n",
       "      <td>Bir</td>\n",
       "      <td>https://i.scdn.co/image/ab6761610000e5eb673b11...</td>\n",
       "      <td>NaN</td>\n",
       "      <td>NaN</td>\n",
       "      <td>Previously Active Listeners</td>\n",
       "    </tr>\n",
       "    <tr>\n",
       "      <th>211</th>\n",
       "      <td>Gunda</td>\n",
       "      <td>https://i.scdn.co/image/ab6761610000e5ebc8351c...</td>\n",
       "      <td>NaN</td>\n",
       "      <td>NaN</td>\n",
       "      <td>Moderate listeners</td>\n",
       "    </tr>\n",
       "    <tr>\n",
       "      <th>113</th>\n",
       "      <td>Harjas Harjaayi</td>\n",
       "      <td>https://i.scdn.co/image/ab6761610000e5ebd79f27...</td>\n",
       "      <td>50.0</td>\n",
       "      <td>desi hip hop</td>\n",
       "      <td>Moderate listeners</td>\n",
       "    </tr>\n",
       "    <tr>\n",
       "      <th>427</th>\n",
       "      <td>Faheem Abdullah</td>\n",
       "      <td>https://i.scdn.co/image/ab6761610000e5ebc0b07a...</td>\n",
       "      <td>66.0</td>\n",
       "      <td>kashmiri pop</td>\n",
       "      <td>Previously Active Listeners</td>\n",
       "    </tr>\n",
       "    <tr>\n",
       "      <th>431</th>\n",
       "      <td>Kailash Kher</td>\n",
       "      <td>https://i.scdn.co/image/ab6761610000e5ebc6d179...</td>\n",
       "      <td>71.0</td>\n",
       "      <td>filmi</td>\n",
       "      <td>Previously Active Listeners</td>\n",
       "    </tr>\n",
       "  </tbody>\n",
       "</table>\n",
       "</div>"
      ],
      "text/plain": [
       "          artistName                                            imgLink  \\\n",
       "698              Bir  https://i.scdn.co/image/ab6761610000e5eb673b11...   \n",
       "211            Gunda  https://i.scdn.co/image/ab6761610000e5ebc8351c...   \n",
       "113  Harjas Harjaayi  https://i.scdn.co/image/ab6761610000e5ebd79f27...   \n",
       "427  Faheem Abdullah  https://i.scdn.co/image/ab6761610000e5ebc0b07a...   \n",
       "431     Kailash Kher  https://i.scdn.co/image/ab6761610000e5ebc6d179...   \n",
       "\n",
       "     popularity         genre                      segment  \n",
       "698         NaN           NaN  Previously Active Listeners  \n",
       "211         NaN           NaN           Moderate listeners  \n",
       "113        50.0  desi hip hop           Moderate listeners  \n",
       "427        66.0  kashmiri pop  Previously Active Listeners  \n",
       "431        71.0         filmi  Previously Active Listeners  "
      ]
     },
     "execution_count": 58,
     "metadata": {},
     "output_type": "execute_result"
    }
   ],
   "source": [
    "mainArtist.sample(5)"
   ]
  },
  {
   "cell_type": "markdown",
   "id": "a9331045-e34b-4a20-9c20-fe59a0f6aa50",
   "metadata": {},
   "source": [
    "#### MainTracksData"
   ]
  },
  {
   "cell_type": "code",
   "execution_count": 59,
   "id": "a8b0fbb6-e5a1-49ce-a6a8-82ec8152ced9",
   "metadata": {},
   "outputs": [
    {
     "name": "stdout",
     "output_type": "stream",
     "text": [
      "2358 872 2337 1465 2358 1434\n"
     ]
    }
   ],
   "source": [
    "print(len(imgTr), len(expTr), len(popTr), len(albTr), len(durTr), len(featTr))"
   ]
  },
  {
   "cell_type": "markdown",
   "id": "1b8e2039-804a-4e97-8edc-a2e51ae9fd7a",
   "metadata": {},
   "source": [
    "This means we'll join all tables on imgTr"
   ]
  },
  {
   "cell_type": "code",
   "execution_count": 60,
   "id": "1b767a8b-a887-4bff-a841-b9e0bcb83818",
   "metadata": {},
   "outputs": [],
   "source": [
    "mainTracks = imgTr.merge(\n",
    "    expTr,\n",
    "    how= 'left',\n",
    "    on= 'trackName'\n",
    ").merge(\n",
    "    popTr,\n",
    "    how= 'left', \n",
    "    on= 'trackName'\n",
    ").merge(\n",
    "    albTr,\n",
    "    how= 'left',\n",
    "    on= 'trackName'\n",
    ").merge(\n",
    "    durTr,\n",
    "    how= 'left',\n",
    "    on= 'trackName'\n",
    ").merge(\n",
    "    featTr,\n",
    "    how= 'left',\n",
    "    on= 'trackName'\n",
    ").merge(\n",
    "    plTracks,\n",
    "    how= 'left',\n",
    "    on= 'trackName'\n",
    ")"
   ]
  },
  {
   "cell_type": "code",
   "execution_count": 61,
   "id": "3d816ecc-bd8b-489a-96a2-cd6aeaa63c56",
   "metadata": {},
   "outputs": [
    {
     "data": {
      "text/plain": [
       "True"
      ]
     },
     "execution_count": 61,
     "metadata": {},
     "output_type": "execute_result"
    }
   ],
   "source": [
    "len(mainTracks) == len(imgTr)"
   ]
  },
  {
   "cell_type": "code",
   "execution_count": 62,
   "id": "29b5c688-fee5-412b-93b4-992340044d63",
   "metadata": {},
   "outputs": [
    {
     "data": {
      "text/html": [
       "<div>\n",
       "<style scoped>\n",
       "    .dataframe tbody tr th:only-of-type {\n",
       "        vertical-align: middle;\n",
       "    }\n",
       "\n",
       "    .dataframe tbody tr th {\n",
       "        vertical-align: top;\n",
       "    }\n",
       "\n",
       "    .dataframe thead th {\n",
       "        text-align: right;\n",
       "    }\n",
       "</style>\n",
       "<table border=\"1\" class=\"dataframe\">\n",
       "  <thead>\n",
       "    <tr style=\"text-align: right;\">\n",
       "      <th></th>\n",
       "      <th>trackName</th>\n",
       "      <th>imgLink</th>\n",
       "      <th>explicitFlag</th>\n",
       "      <th>popularity</th>\n",
       "      <th>albumName</th>\n",
       "      <th>duration_ms</th>\n",
       "      <th>ftArtists</th>\n",
       "      <th>playlistName</th>\n",
       "      <th>dateAdded</th>\n",
       "    </tr>\n",
       "  </thead>\n",
       "  <tbody>\n",
       "    <tr>\n",
       "      <th>1621</th>\n",
       "      <td>Qanoon</td>\n",
       "      <td>https://i.scdn.co/image/ab67616d0000b2737c936a...</td>\n",
       "      <td>True</td>\n",
       "      <td>10.0</td>\n",
       "      <td>Confessions</td>\n",
       "      <td>211200</td>\n",
       "      <td>Rithmetic</td>\n",
       "      <td>gauraV⚡</td>\n",
       "      <td>2023-09-29</td>\n",
       "    </tr>\n",
       "    <tr>\n",
       "      <th>555</th>\n",
       "      <td>Dil Chori (From \"Sonu Ke Titu Ki Sweety\")</td>\n",
       "      <td>https://i.scdn.co/image/ab67616d0000b2734ba246...</td>\n",
       "      <td>NaN</td>\n",
       "      <td>65.0</td>\n",
       "      <td>Yo Yo Honey Singh Is Back</td>\n",
       "      <td>226696</td>\n",
       "      <td>Simar Kaur, Ishers</td>\n",
       "      <td>NaN</td>\n",
       "      <td>NaN</td>\n",
       "    </tr>\n",
       "    <tr>\n",
       "      <th>20</th>\n",
       "      <td>28 (with Dean Lewis)</td>\n",
       "      <td>https://i.scdn.co/image/ab67616d0000b2733ec018...</td>\n",
       "      <td>NaN</td>\n",
       "      <td>64.0</td>\n",
       "      <td>NaN</td>\n",
       "      <td>208293</td>\n",
       "      <td>Dean Lewis</td>\n",
       "      <td>NaN</td>\n",
       "      <td>NaN</td>\n",
       "    </tr>\n",
       "    <tr>\n",
       "      <th>145</th>\n",
       "      <td>Anjaan</td>\n",
       "      <td>https://i.scdn.co/image/ab67616d0000b27382e678...</td>\n",
       "      <td>True</td>\n",
       "      <td>46.0</td>\n",
       "      <td>NaN</td>\n",
       "      <td>303203</td>\n",
       "      <td>superdupersultan, Nabeel Akbar, Talhah Yunus</td>\n",
       "      <td>gauraV 🛌</td>\n",
       "      <td>2023-10-26</td>\n",
       "    </tr>\n",
       "    <tr>\n",
       "      <th>1146</th>\n",
       "      <td>Koi Nahi Puchta</td>\n",
       "      <td>https://i.scdn.co/image/ab67616d0000b273637e2e...</td>\n",
       "      <td>NaN</td>\n",
       "      <td>36.0</td>\n",
       "      <td>Robin Hood</td>\n",
       "      <td>225124</td>\n",
       "      <td>Sammohit, Umair</td>\n",
       "      <td>NaN</td>\n",
       "      <td>NaN</td>\n",
       "    </tr>\n",
       "  </tbody>\n",
       "</table>\n",
       "</div>"
      ],
      "text/plain": [
       "                                      trackName  \\\n",
       "1621                                     Qanoon   \n",
       "555   Dil Chori (From \"Sonu Ke Titu Ki Sweety\")   \n",
       "20                         28 (with Dean Lewis)   \n",
       "145                                      Anjaan   \n",
       "1146                            Koi Nahi Puchta   \n",
       "\n",
       "                                                imgLink explicitFlag  \\\n",
       "1621  https://i.scdn.co/image/ab67616d0000b2737c936a...         True   \n",
       "555   https://i.scdn.co/image/ab67616d0000b2734ba246...          NaN   \n",
       "20    https://i.scdn.co/image/ab67616d0000b2733ec018...          NaN   \n",
       "145   https://i.scdn.co/image/ab67616d0000b27382e678...         True   \n",
       "1146  https://i.scdn.co/image/ab67616d0000b273637e2e...          NaN   \n",
       "\n",
       "      popularity                  albumName  duration_ms  \\\n",
       "1621        10.0                Confessions       211200   \n",
       "555         65.0  Yo Yo Honey Singh Is Back       226696   \n",
       "20          64.0                        NaN       208293   \n",
       "145         46.0                        NaN       303203   \n",
       "1146        36.0                 Robin Hood       225124   \n",
       "\n",
       "                                         ftArtists playlistName   dateAdded  \n",
       "1621                                     Rithmetic      gauraV⚡  2023-09-29  \n",
       "555                             Simar Kaur, Ishers          NaN         NaN  \n",
       "20                                      Dean Lewis          NaN         NaN  \n",
       "145   superdupersultan, Nabeel Akbar, Talhah Yunus     gauraV 🛌  2023-10-26  \n",
       "1146                               Sammohit, Umair          NaN         NaN  "
      ]
     },
     "execution_count": 62,
     "metadata": {},
     "output_type": "execute_result"
    }
   ],
   "source": [
    "mainTracks.sample(5)"
   ]
  },
  {
   "cell_type": "markdown",
   "id": "f71dc9d0-f969-4736-acd2-fc85934a268a",
   "metadata": {},
   "source": [
    "Now we've got our 3 main tables:<br>\n",
    "df: Containing streaming data for year 2024<br>\n",
    "mainArtist: Containing all the data related to our artists.<br>\n",
    "mainTracks: Containing all the data related to our tracks.<br>"
   ]
  },
  {
   "cell_type": "markdown",
   "id": "b1e52285-cd2e-462d-acdb-d615a91032a8",
   "metadata": {},
   "source": [
    "Now let's save them into a CSV to load them in Power BI and create relationship like we wish:<br>\n",
    "##### UPDATED: The type of relationship that we saw in Power BI was Many to Many, but we wanted a One to Many relationship.<br>\n",
    "##### UPDATED: In Power BI, error message it was revealed to us that the error was because there are duplicate records in MainTracks and MainArtist data.<br>"
   ]
  },
  {
   "cell_type": "markdown",
   "id": "f4e24cc9-6e71-417c-9079-97377f05f8c5",
   "metadata": {},
   "source": [
    "## Demonstrating the reason behind error in Relationships in Power BI"
   ]
  },
  {
   "cell_type": "code",
   "execution_count": 63,
   "id": "8e6cea8f-9a38-4b8e-ae22-caaaf199e885",
   "metadata": {},
   "outputs": [
    {
     "data": {
      "text/html": [
       "<div>\n",
       "<style scoped>\n",
       "    .dataframe tbody tr th:only-of-type {\n",
       "        vertical-align: middle;\n",
       "    }\n",
       "\n",
       "    .dataframe tbody tr th {\n",
       "        vertical-align: top;\n",
       "    }\n",
       "\n",
       "    .dataframe thead th {\n",
       "        text-align: right;\n",
       "    }\n",
       "</style>\n",
       "<table border=\"1\" class=\"dataframe\">\n",
       "  <thead>\n",
       "    <tr style=\"text-align: right;\">\n",
       "      <th></th>\n",
       "      <th>trackName</th>\n",
       "      <th>imgLink</th>\n",
       "      <th>explicitFlag</th>\n",
       "      <th>popularity</th>\n",
       "      <th>albumName</th>\n",
       "      <th>duration_ms</th>\n",
       "      <th>ftArtists</th>\n",
       "      <th>playlistName</th>\n",
       "      <th>dateAdded</th>\n",
       "    </tr>\n",
       "  </thead>\n",
       "  <tbody>\n",
       "  </tbody>\n",
       "</table>\n",
       "</div>"
      ],
      "text/plain": [
       "Empty DataFrame\n",
       "Columns: [trackName, imgLink, explicitFlag, popularity, albumName, duration_ms, ftArtists, playlistName, dateAdded]\n",
       "Index: []"
      ]
     },
     "execution_count": 63,
     "metadata": {},
     "output_type": "execute_result"
    }
   ],
   "source": [
    "mainTracks.loc[mainTracks['trackName'].duplicated()]"
   ]
  },
  {
   "cell_type": "markdown",
   "id": "e75aa992-c7e9-40b3-ad97-e1aa832933cf",
   "metadata": {},
   "source": [
    "Oops, what to do now, we've checked it, and there are no duplicates, then why did we recieved the error message stating there are duplicates present in this column.<br>\n",
    "Let's check for duplicates but in a different manner."
   ]
  },
  {
   "cell_type": "code",
   "execution_count": 64,
   "id": "43538d6e-c64d-4aa6-88fe-60b003637961",
   "metadata": {},
   "outputs": [
    {
     "data": {
      "text/html": [
       "<div>\n",
       "<style scoped>\n",
       "    .dataframe tbody tr th:only-of-type {\n",
       "        vertical-align: middle;\n",
       "    }\n",
       "\n",
       "    .dataframe tbody tr th {\n",
       "        vertical-align: top;\n",
       "    }\n",
       "\n",
       "    .dataframe thead th {\n",
       "        text-align: right;\n",
       "    }\n",
       "</style>\n",
       "<table border=\"1\" class=\"dataframe\">\n",
       "  <thead>\n",
       "    <tr style=\"text-align: right;\">\n",
       "      <th></th>\n",
       "      <th>trackName</th>\n",
       "      <th>imgLink</th>\n",
       "      <th>explicitFlag</th>\n",
       "      <th>popularity</th>\n",
       "      <th>albumName</th>\n",
       "      <th>duration_ms</th>\n",
       "      <th>ftArtists</th>\n",
       "      <th>playlistName</th>\n",
       "      <th>dateAdded</th>\n",
       "    </tr>\n",
       "  </thead>\n",
       "  <tbody>\n",
       "    <tr>\n",
       "      <th>54</th>\n",
       "      <td>Aadat</td>\n",
       "      <td>https://i.scdn.co/image/ab67616d0000b2732938de...</td>\n",
       "      <td>NaN</td>\n",
       "      <td>46.0</td>\n",
       "      <td>NaN</td>\n",
       "      <td>212912</td>\n",
       "      <td>Jokhay</td>\n",
       "      <td>gauraV 🛌</td>\n",
       "      <td>2023-12-21</td>\n",
       "    </tr>\n",
       "    <tr>\n",
       "      <th>606</th>\n",
       "      <td>Downers at Dusk</td>\n",
       "      <td>https://i.scdn.co/image/ab67616d0000b273860f20...</td>\n",
       "      <td>True</td>\n",
       "      <td>66.0</td>\n",
       "      <td>Open Letter</td>\n",
       "      <td>256000</td>\n",
       "      <td>Umair</td>\n",
       "      <td>NaN</td>\n",
       "      <td>NaN</td>\n",
       "    </tr>\n",
       "    <tr>\n",
       "      <th>1026</th>\n",
       "      <td>Joint in the Booth</td>\n",
       "      <td>https://i.scdn.co/image/ab67616d0000b273b7b544...</td>\n",
       "      <td>True</td>\n",
       "      <td>43.0</td>\n",
       "      <td>Lunch Break</td>\n",
       "      <td>166285</td>\n",
       "      <td>NaN</td>\n",
       "      <td>NaN</td>\n",
       "      <td>NaN</td>\n",
       "    </tr>\n",
       "    <tr>\n",
       "      <th>1174</th>\n",
       "      <td>Lagta Ni Mann</td>\n",
       "      <td>https://i.scdn.co/image/ab67616d0000b27344cfb9...</td>\n",
       "      <td>NaN</td>\n",
       "      <td>1.0</td>\n",
       "      <td>Chokde Kahin Ke</td>\n",
       "      <td>193846</td>\n",
       "      <td>Kumauni 17, Dumpling, Bug's</td>\n",
       "      <td>NaN</td>\n",
       "      <td>NaN</td>\n",
       "    </tr>\n",
       "    <tr>\n",
       "      <th>1223</th>\n",
       "      <td>Lost in Time</td>\n",
       "      <td>https://i.scdn.co/image/ab67616d0000b273860f20...</td>\n",
       "      <td>True</td>\n",
       "      <td>50.0</td>\n",
       "      <td>Open Letter</td>\n",
       "      <td>214589</td>\n",
       "      <td>Umair</td>\n",
       "      <td>NaN</td>\n",
       "      <td>NaN</td>\n",
       "    </tr>\n",
       "    <tr>\n",
       "      <th>1564</th>\n",
       "      <td>Peace of Mind</td>\n",
       "      <td>https://i.scdn.co/image/ab67616d0000b273b7b544...</td>\n",
       "      <td>True</td>\n",
       "      <td>38.0</td>\n",
       "      <td>Lunch Break</td>\n",
       "      <td>236769</td>\n",
       "      <td>Lil Bhavi, Bhaskar, Ab 17</td>\n",
       "      <td>gauraV⚡</td>\n",
       "      <td>2024-04-17</td>\n",
       "    </tr>\n",
       "    <tr>\n",
       "      <th>1867</th>\n",
       "      <td>Still The Same</td>\n",
       "      <td>https://i.scdn.co/image/ab67616d0000b273e0b460...</td>\n",
       "      <td>NaN</td>\n",
       "      <td>52.0</td>\n",
       "      <td>NaN</td>\n",
       "      <td>194928</td>\n",
       "      <td>NaN</td>\n",
       "      <td>NaN</td>\n",
       "      <td>NaN</td>\n",
       "    </tr>\n",
       "    <tr>\n",
       "      <th>2053</th>\n",
       "      <td>Trouble</td>\n",
       "      <td>https://i.scdn.co/image/ab67616d0000b2731633c4...</td>\n",
       "      <td>True</td>\n",
       "      <td>60.0</td>\n",
       "      <td>The Death of Slim Shady (Coup De Grâce)</td>\n",
       "      <td>41487</td>\n",
       "      <td>NaN</td>\n",
       "      <td>NaN</td>\n",
       "      <td>NaN</td>\n",
       "    </tr>\n",
       "    <tr>\n",
       "      <th>2295</th>\n",
       "      <td>dangerous</td>\n",
       "      <td>https://i.scdn.co/image/ab67616d0000b273bbdceb...</td>\n",
       "      <td>True</td>\n",
       "      <td>64.0</td>\n",
       "      <td>american dream</td>\n",
       "      <td>265305</td>\n",
       "      <td>Lil Durk, Metro Boomin</td>\n",
       "      <td>NaN</td>\n",
       "      <td>NaN</td>\n",
       "    </tr>\n",
       "    <tr>\n",
       "      <th>2299</th>\n",
       "      <td>dooriyan</td>\n",
       "      <td>https://i.scdn.co/image/ab67616d0000b273b773ac...</td>\n",
       "      <td>NaN</td>\n",
       "      <td>47.0</td>\n",
       "      <td>Genesis 1:1</td>\n",
       "      <td>161624</td>\n",
       "      <td>NaN</td>\n",
       "      <td>gauraV :)</td>\n",
       "      <td>2022-12-10</td>\n",
       "    </tr>\n",
       "  </tbody>\n",
       "</table>\n",
       "</div>"
      ],
      "text/plain": [
       "               trackName                                            imgLink  \\\n",
       "54                 Aadat  https://i.scdn.co/image/ab67616d0000b2732938de...   \n",
       "606      Downers at Dusk  https://i.scdn.co/image/ab67616d0000b273860f20...   \n",
       "1026  Joint in the Booth  https://i.scdn.co/image/ab67616d0000b273b7b544...   \n",
       "1174       Lagta Ni Mann  https://i.scdn.co/image/ab67616d0000b27344cfb9...   \n",
       "1223        Lost in Time  https://i.scdn.co/image/ab67616d0000b273860f20...   \n",
       "1564       Peace of Mind  https://i.scdn.co/image/ab67616d0000b273b7b544...   \n",
       "1867      Still The Same  https://i.scdn.co/image/ab67616d0000b273e0b460...   \n",
       "2053             Trouble  https://i.scdn.co/image/ab67616d0000b2731633c4...   \n",
       "2295           dangerous  https://i.scdn.co/image/ab67616d0000b273bbdceb...   \n",
       "2299            dooriyan  https://i.scdn.co/image/ab67616d0000b273b773ac...   \n",
       "\n",
       "     explicitFlag  popularity                                albumName  \\\n",
       "54            NaN        46.0                                      NaN   \n",
       "606          True        66.0                              Open Letter   \n",
       "1026         True        43.0                              Lunch Break   \n",
       "1174          NaN         1.0                          Chokde Kahin Ke   \n",
       "1223         True        50.0                              Open Letter   \n",
       "1564         True        38.0                              Lunch Break   \n",
       "1867          NaN        52.0                                      NaN   \n",
       "2053         True        60.0  The Death of Slim Shady (Coup De Grâce)   \n",
       "2295         True        64.0                           american dream   \n",
       "2299          NaN        47.0                              Genesis 1:1   \n",
       "\n",
       "      duration_ms                    ftArtists playlistName   dateAdded  \n",
       "54         212912                       Jokhay     gauraV 🛌  2023-12-21  \n",
       "606        256000                        Umair          NaN         NaN  \n",
       "1026       166285                          NaN          NaN         NaN  \n",
       "1174       193846  Kumauni 17, Dumpling, Bug's          NaN         NaN  \n",
       "1223       214589                        Umair          NaN         NaN  \n",
       "1564       236769    Lil Bhavi, Bhaskar, Ab 17      gauraV⚡  2024-04-17  \n",
       "1867       194928                          NaN          NaN         NaN  \n",
       "2053        41487                          NaN          NaN         NaN  \n",
       "2295       265305       Lil Durk, Metro Boomin          NaN         NaN  \n",
       "2299       161624                          NaN    gauraV :)  2022-12-10  "
      ]
     },
     "execution_count": 64,
     "metadata": {},
     "output_type": "execute_result"
    }
   ],
   "source": [
    "mainTracks.loc[mainTracks['trackName'].str.lower().duplicated()]"
   ]
  },
  {
   "cell_type": "markdown",
   "id": "adf49d25-473f-4dd3-8198-39ff8ccaf0a2",
   "metadata": {},
   "source": [
    "WoW, now there are duplicates, it means we've tracks that are in different CASES, let's check more about them."
   ]
  },
  {
   "cell_type": "markdown",
   "id": "46327d9b-5e8d-4a3e-a976-1e7623113560",
   "metadata": {},
   "source": [
    "This error is uniform to all the datasets that we created"
   ]
  },
  {
   "cell_type": "code",
   "execution_count": 65,
   "id": "d89cd79b-c2d8-478c-b8d1-40ce60127579",
   "metadata": {},
   "outputs": [
    {
     "data": {
      "text/html": [
       "<div>\n",
       "<style scoped>\n",
       "    .dataframe tbody tr th:only-of-type {\n",
       "        vertical-align: middle;\n",
       "    }\n",
       "\n",
       "    .dataframe tbody tr th {\n",
       "        vertical-align: top;\n",
       "    }\n",
       "\n",
       "    .dataframe thead th {\n",
       "        text-align: right;\n",
       "    }\n",
       "</style>\n",
       "<table border=\"1\" class=\"dataframe\">\n",
       "  <thead>\n",
       "    <tr style=\"text-align: right;\">\n",
       "      <th></th>\n",
       "      <th>trackName</th>\n",
       "      <th>imgLink</th>\n",
       "      <th>explicitFlag</th>\n",
       "      <th>popularity</th>\n",
       "      <th>albumName</th>\n",
       "      <th>duration_ms</th>\n",
       "      <th>ftArtists</th>\n",
       "      <th>playlistName</th>\n",
       "      <th>dateAdded</th>\n",
       "    </tr>\n",
       "  </thead>\n",
       "  <tbody>\n",
       "    <tr>\n",
       "      <th>495</th>\n",
       "      <td>Dangerous</td>\n",
       "      <td>https://i.scdn.co/image/ab67616d0000b27391bd45...</td>\n",
       "      <td>True</td>\n",
       "      <td>3.0</td>\n",
       "      <td>O</td>\n",
       "      <td>194894</td>\n",
       "      <td>NaN</td>\n",
       "      <td>NaN</td>\n",
       "      <td>NaN</td>\n",
       "    </tr>\n",
       "    <tr>\n",
       "      <th>2295</th>\n",
       "      <td>dangerous</td>\n",
       "      <td>https://i.scdn.co/image/ab67616d0000b273bbdceb...</td>\n",
       "      <td>True</td>\n",
       "      <td>64.0</td>\n",
       "      <td>american dream</td>\n",
       "      <td>265305</td>\n",
       "      <td>Lil Durk, Metro Boomin</td>\n",
       "      <td>NaN</td>\n",
       "      <td>NaN</td>\n",
       "    </tr>\n",
       "  </tbody>\n",
       "</table>\n",
       "</div>"
      ],
      "text/plain": [
       "      trackName                                            imgLink  \\\n",
       "495   Dangerous  https://i.scdn.co/image/ab67616d0000b27391bd45...   \n",
       "2295  dangerous  https://i.scdn.co/image/ab67616d0000b273bbdceb...   \n",
       "\n",
       "     explicitFlag  popularity       albumName  duration_ms  \\\n",
       "495          True         3.0               O       194894   \n",
       "2295         True        64.0  american dream       265305   \n",
       "\n",
       "                   ftArtists playlistName dateAdded  \n",
       "495                      NaN          NaN       NaN  \n",
       "2295  Lil Durk, Metro Boomin          NaN       NaN  "
      ]
     },
     "execution_count": 65,
     "metadata": {},
     "output_type": "execute_result"
    }
   ],
   "source": [
    "mainTracks.loc[mainTracks['trackName'].str.lower() == 'dangerous']"
   ]
  },
  {
   "cell_type": "markdown",
   "id": "000b344a-d674-426b-a486-4b2fb844cee2",
   "metadata": {},
   "source": [
    "With this we can verify that even though the name of both tracks is same, they are different.<br>\n",
    "And because they are different we can't actually drop these duplicates.<br>\n",
    "So what should we do next, so that we are not dropping this information and our relationships are also fixed."
   ]
  },
  {
   "cell_type": "markdown",
   "id": "b7c0c056-1c9c-479d-b946-5b4be5e81efb",
   "metadata": {},
   "source": [
    "We'll create Unique Identifiers for our Tracks and Artists, and use them for connections instead."
   ]
  },
  {
   "cell_type": "markdown",
   "id": "41bf3458-1e0b-4920-9199-23178db0372b",
   "metadata": {},
   "source": [
    "#### Generating Primary Keys "
   ]
  },
  {
   "cell_type": "markdown",
   "id": "d37e57df-69d0-4128-89ad-8c00b3ebe884",
   "metadata": {},
   "source": [
    "Now since we're creating primary keys for our artists and tracks, we should now also create a streamId.<br>"
   ]
  },
  {
   "cell_type": "code",
   "execution_count": 66,
   "id": "5853d109-961f-490c-9982-24a0351b9b94",
   "metadata": {},
   "outputs": [
    {
     "data": {
      "text/html": [
       "<div>\n",
       "<style scoped>\n",
       "    .dataframe tbody tr th:only-of-type {\n",
       "        vertical-align: middle;\n",
       "    }\n",
       "\n",
       "    .dataframe tbody tr th {\n",
       "        vertical-align: top;\n",
       "    }\n",
       "\n",
       "    .dataframe thead th {\n",
       "        text-align: right;\n",
       "    }\n",
       "</style>\n",
       "<table border=\"1\" class=\"dataframe\">\n",
       "  <thead>\n",
       "    <tr style=\"text-align: right;\">\n",
       "      <th></th>\n",
       "      <th>endTime</th>\n",
       "      <th>artistName</th>\n",
       "      <th>trackName</th>\n",
       "      <th>msPlayed</th>\n",
       "      <th>date</th>\n",
       "      <th>time</th>\n",
       "    </tr>\n",
       "  </thead>\n",
       "  <tbody>\n",
       "    <tr>\n",
       "      <th>3703</th>\n",
       "      <td>2024-01-01 06:27:00</td>\n",
       "      <td>The Local Train</td>\n",
       "      <td>Choo Lo</td>\n",
       "      <td>233630</td>\n",
       "      <td>2024-01-01</td>\n",
       "      <td>06:27:00</td>\n",
       "    </tr>\n",
       "    <tr>\n",
       "      <th>3704</th>\n",
       "      <td>2024-01-01 06:33:00</td>\n",
       "      <td>The Local Train</td>\n",
       "      <td>Aaoge Tum Kabhi</td>\n",
       "      <td>313163</td>\n",
       "      <td>2024-01-01</td>\n",
       "      <td>06:33:00</td>\n",
       "    </tr>\n",
       "    <tr>\n",
       "      <th>3705</th>\n",
       "      <td>2024-01-01 06:37:00</td>\n",
       "      <td>Jokhay</td>\n",
       "      <td>Me &amp; You</td>\n",
       "      <td>297019</td>\n",
       "      <td>2024-01-01</td>\n",
       "      <td>06:37:00</td>\n",
       "    </tr>\n",
       "    <tr>\n",
       "      <th>3706</th>\n",
       "      <td>2024-01-01 06:41:00</td>\n",
       "      <td>Talwiinder</td>\n",
       "      <td>Tera Saath</td>\n",
       "      <td>214595</td>\n",
       "      <td>2024-01-01</td>\n",
       "      <td>06:41:00</td>\n",
       "    </tr>\n",
       "    <tr>\n",
       "      <th>3707</th>\n",
       "      <td>2024-01-01 06:44:00</td>\n",
       "      <td>Bella</td>\n",
       "      <td>Murdaghar</td>\n",
       "      <td>161250</td>\n",
       "      <td>2024-01-01</td>\n",
       "      <td>06:44:00</td>\n",
       "    </tr>\n",
       "  </tbody>\n",
       "</table>\n",
       "</div>"
      ],
      "text/plain": [
       "                 endTime       artistName        trackName  msPlayed  \\\n",
       "3703 2024-01-01 06:27:00  The Local Train          Choo Lo    233630   \n",
       "3704 2024-01-01 06:33:00  The Local Train  Aaoge Tum Kabhi    313163   \n",
       "3705 2024-01-01 06:37:00           Jokhay         Me & You    297019   \n",
       "3706 2024-01-01 06:41:00       Talwiinder       Tera Saath    214595   \n",
       "3707 2024-01-01 06:44:00            Bella        Murdaghar    161250   \n",
       "\n",
       "           date      time  \n",
       "3703 2024-01-01  06:27:00  \n",
       "3704 2024-01-01  06:33:00  \n",
       "3705 2024-01-01  06:37:00  \n",
       "3706 2024-01-01  06:41:00  \n",
       "3707 2024-01-01  06:44:00  "
      ]
     },
     "execution_count": 66,
     "metadata": {},
     "output_type": "execute_result"
    }
   ],
   "source": [
    "df.head()"
   ]
  },
  {
   "cell_type": "markdown",
   "id": "f665dc1b-7b3e-4bb6-ae86-1955220cb02e",
   "metadata": {},
   "source": [
    "We'll create these primary keys:<br>\n",
    "1. StreamID\n",
    "2. ArtistID\n",
    "3. TrackID"
   ]
  },
  {
   "cell_type": "markdown",
   "id": "ab6c2f30-30ab-4c27-b1c7-7f5a37c9db3a",
   "metadata": {},
   "source": [
    "1. Stream ID"
   ]
  },
  {
   "cell_type": "markdown",
   "id": "a2c8f8fb-7b75-4253-aafc-1daae6a6db2b",
   "metadata": {},
   "source": [
    "We'll make our streamId with a incrementing logic"
   ]
  },
  {
   "cell_type": "code",
   "execution_count": 67,
   "id": "e07585aa-700d-48c3-94be-db28c0a9b521",
   "metadata": {},
   "outputs": [],
   "source": [
    "df['streamId'] = range(1, len(df)+1)"
   ]
  },
  {
   "cell_type": "markdown",
   "id": "054a4791-3098-4486-9f24-d3bff09e5f6d",
   "metadata": {},
   "source": [
    "2. ArtistID"
   ]
  },
  {
   "cell_type": "markdown",
   "id": "b9b3c7e0-ba7a-4ed2-a1a0-77082ada6848",
   "metadata": {},
   "source": [
    "For Artists and Tracks we'll firstly get all of our artists and tracks in one place.<br>\n",
    "Then for each of them we'll give them an unique value, with the same incrementing logic.<br>\n",
    "After that we'll store them in a dictionary.<br>\n",
    "The final step would be to map our keys with the artists and tracks respectively."
   ]
  },
  {
   "cell_type": "code",
   "execution_count": 68,
   "id": "a05586c5-79f1-4337-87d6-fdf0ec829442",
   "metadata": {},
   "outputs": [
    {
     "data": {
      "text/plain": [
       "790"
      ]
     },
     "execution_count": 68,
     "metadata": {},
     "output_type": "execute_result"
    }
   ],
   "source": [
    "artists = list(set(df['artistName']))\n",
    "artistKeys = {}\n",
    "for i in range(len(artists)):\n",
    "    artistKeys[artists[i]] = i\n",
    "len(artistKeys)"
   ]
  },
  {
   "cell_type": "code",
   "execution_count": 69,
   "id": "7ab50369-a504-4a6e-a1ee-7309e87b929f",
   "metadata": {},
   "outputs": [],
   "source": [
    "df['artistId'] = df['artistName'].map(artistKeys)"
   ]
  },
  {
   "cell_type": "markdown",
   "id": "0274f27f-8129-4e75-993b-5666c377c0cc",
   "metadata": {},
   "source": [
    "3. TrackID"
   ]
  },
  {
   "cell_type": "code",
   "execution_count": 70,
   "id": "69faf18e-0be9-44e2-aae8-3cec18c8cccf",
   "metadata": {},
   "outputs": [
    {
     "data": {
      "text/plain": [
       "2371"
      ]
     },
     "execution_count": 70,
     "metadata": {},
     "output_type": "execute_result"
    }
   ],
   "source": [
    "tracks = list(set(df['trackName']))\n",
    "trackKeys = {}\n",
    "for i in range(len(tracks)):\n",
    "    trackKeys[tracks[i]] = i\n",
    "len(trackKeys)"
   ]
  },
  {
   "cell_type": "code",
   "execution_count": 71,
   "id": "5b4348e3-5194-43e3-a5bd-6c313ca6532d",
   "metadata": {},
   "outputs": [],
   "source": [
    "df['trackId'] = df['trackName'].map(trackKeys)"
   ]
  },
  {
   "cell_type": "code",
   "execution_count": 72,
   "id": "42850fc9-e429-4eab-baca-d24d1f915d2f",
   "metadata": {
    "scrolled": true
   },
   "outputs": [
    {
     "data": {
      "text/html": [
       "<div>\n",
       "<style scoped>\n",
       "    .dataframe tbody tr th:only-of-type {\n",
       "        vertical-align: middle;\n",
       "    }\n",
       "\n",
       "    .dataframe tbody tr th {\n",
       "        vertical-align: top;\n",
       "    }\n",
       "\n",
       "    .dataframe thead th {\n",
       "        text-align: right;\n",
       "    }\n",
       "</style>\n",
       "<table border=\"1\" class=\"dataframe\">\n",
       "  <thead>\n",
       "    <tr style=\"text-align: right;\">\n",
       "      <th></th>\n",
       "      <th>endTime</th>\n",
       "      <th>artistName</th>\n",
       "      <th>trackName</th>\n",
       "      <th>msPlayed</th>\n",
       "      <th>date</th>\n",
       "      <th>time</th>\n",
       "      <th>streamId</th>\n",
       "      <th>artistId</th>\n",
       "      <th>trackId</th>\n",
       "    </tr>\n",
       "  </thead>\n",
       "  <tbody>\n",
       "    <tr>\n",
       "      <th>3703</th>\n",
       "      <td>2024-01-01 06:27:00</td>\n",
       "      <td>The Local Train</td>\n",
       "      <td>Choo Lo</td>\n",
       "      <td>233630</td>\n",
       "      <td>2024-01-01</td>\n",
       "      <td>06:27:00</td>\n",
       "      <td>1</td>\n",
       "      <td>484</td>\n",
       "      <td>2024</td>\n",
       "    </tr>\n",
       "    <tr>\n",
       "      <th>3704</th>\n",
       "      <td>2024-01-01 06:33:00</td>\n",
       "      <td>The Local Train</td>\n",
       "      <td>Aaoge Tum Kabhi</td>\n",
       "      <td>313163</td>\n",
       "      <td>2024-01-01</td>\n",
       "      <td>06:33:00</td>\n",
       "      <td>2</td>\n",
       "      <td>484</td>\n",
       "      <td>2269</td>\n",
       "    </tr>\n",
       "    <tr>\n",
       "      <th>3705</th>\n",
       "      <td>2024-01-01 06:37:00</td>\n",
       "      <td>Jokhay</td>\n",
       "      <td>Me &amp; You</td>\n",
       "      <td>297019</td>\n",
       "      <td>2024-01-01</td>\n",
       "      <td>06:37:00</td>\n",
       "      <td>3</td>\n",
       "      <td>729</td>\n",
       "      <td>427</td>\n",
       "    </tr>\n",
       "    <tr>\n",
       "      <th>3706</th>\n",
       "      <td>2024-01-01 06:41:00</td>\n",
       "      <td>Talwiinder</td>\n",
       "      <td>Tera Saath</td>\n",
       "      <td>214595</td>\n",
       "      <td>2024-01-01</td>\n",
       "      <td>06:41:00</td>\n",
       "      <td>4</td>\n",
       "      <td>201</td>\n",
       "      <td>1464</td>\n",
       "    </tr>\n",
       "    <tr>\n",
       "      <th>3707</th>\n",
       "      <td>2024-01-01 06:44:00</td>\n",
       "      <td>Bella</td>\n",
       "      <td>Murdaghar</td>\n",
       "      <td>161250</td>\n",
       "      <td>2024-01-01</td>\n",
       "      <td>06:44:00</td>\n",
       "      <td>5</td>\n",
       "      <td>23</td>\n",
       "      <td>2035</td>\n",
       "    </tr>\n",
       "  </tbody>\n",
       "</table>\n",
       "</div>"
      ],
      "text/plain": [
       "                 endTime       artistName        trackName  msPlayed  \\\n",
       "3703 2024-01-01 06:27:00  The Local Train          Choo Lo    233630   \n",
       "3704 2024-01-01 06:33:00  The Local Train  Aaoge Tum Kabhi    313163   \n",
       "3705 2024-01-01 06:37:00           Jokhay         Me & You    297019   \n",
       "3706 2024-01-01 06:41:00       Talwiinder       Tera Saath    214595   \n",
       "3707 2024-01-01 06:44:00            Bella        Murdaghar    161250   \n",
       "\n",
       "           date      time  streamId  artistId  trackId  \n",
       "3703 2024-01-01  06:27:00         1       484     2024  \n",
       "3704 2024-01-01  06:33:00         2       484     2269  \n",
       "3705 2024-01-01  06:37:00         3       729      427  \n",
       "3706 2024-01-01  06:41:00         4       201     1464  \n",
       "3707 2024-01-01  06:44:00         5        23     2035  "
      ]
     },
     "execution_count": 72,
     "metadata": {},
     "output_type": "execute_result"
    }
   ],
   "source": [
    "df.head()"
   ]
  },
  {
   "cell_type": "markdown",
   "id": "a174831d-45f4-4d43-838b-a4965f973770",
   "metadata": {},
   "source": [
    "Now that our streaming data is updated let's also update our other two DataFrames."
   ]
  },
  {
   "cell_type": "code",
   "execution_count": 73,
   "id": "2f5f9972-c674-4a59-b6d6-ead34821fa5d",
   "metadata": {},
   "outputs": [],
   "source": [
    "mainArtist['artistId'] = mainArtist['artistName'].map(artistKeys)"
   ]
  },
  {
   "cell_type": "code",
   "execution_count": 74,
   "id": "e487df0f-4b07-47b6-b216-2c653f8140c2",
   "metadata": {},
   "outputs": [],
   "source": [
    "mainTracks['trackId'] = mainTracks['trackName'].map(trackKeys)"
   ]
  },
  {
   "cell_type": "markdown",
   "id": "e89c2565-2904-4f21-a918-a3c29528939d",
   "metadata": {},
   "source": [
    "Now our dataframes are ready to move to Power BI, and this time there would be no problem in our relationships.<br>\n",
    "Now let's again save them into CSVs."
   ]
  },
  {
   "cell_type": "markdown",
   "id": "ca12343a-66ad-4a92-8b4d-1a679a2b9e8f",
   "metadata": {},
   "source": [
    "Now let's save this new dataframe as csv"
   ]
  },
  {
   "cell_type": "code",
   "execution_count": 95,
   "id": "c61b24c3-4adf-484b-9320-74131f5aa2f5",
   "metadata": {},
   "outputs": [],
   "source": [
    "df.to_csv('main_df.csv')"
   ]
  },
  {
   "cell_type": "code",
   "execution_count": 96,
   "id": "3c78c57c-3f34-4114-957b-7236e8da63f9",
   "metadata": {},
   "outputs": [],
   "source": [
    "mainArtist.to_csv('main_artist.csv')"
   ]
  },
  {
   "cell_type": "code",
   "execution_count": 97,
   "id": "da1f4efe-db5d-4fd6-9742-ea3e50dd0821",
   "metadata": {},
   "outputs": [],
   "source": [
    "mainTracks.to_csv('main_tracks.csv')"
   ]
  },
  {
   "cell_type": "code",
   "execution_count": null,
   "id": "da121b7c-0f52-4ba6-a562-65fa342304d1",
   "metadata": {},
   "outputs": [],
   "source": []
  }
 ],
 "metadata": {
  "kernelspec": {
   "display_name": "Python 3 (ipykernel)",
   "language": "python",
   "name": "python3"
  },
  "language_info": {
   "codemirror_mode": {
    "name": "ipython",
    "version": 3
   },
   "file_extension": ".py",
   "mimetype": "text/x-python",
   "name": "python",
   "nbconvert_exporter": "python",
   "pygments_lexer": "ipython3",
   "version": "3.12.0"
  }
 },
 "nbformat": 4,
 "nbformat_minor": 5
}
